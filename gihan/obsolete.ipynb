{
 "cells": [
  {
   "cell_type": "code",
   "execution_count": null,
   "id": "a94191d7",
   "metadata": {},
   "outputs": [],
   "source": [
    "import numpy as np"
   ]
  },
  {
   "cell_type": "code",
   "execution_count": null,
   "id": "ea3ab9ac",
   "metadata": {},
   "outputs": [],
   "source": [
    "import matplotlib.pyplot as plt\n",
    "def showNumpyAsImage(x):\n",
    "        x = np.squeeze(x)\n",
    "        x = x*255\n",
    "        x = x.astype(np.uint8)\n",
    "        if IS_NOTEBOOK:\n",
    "            plt.figure(figsize=(1, 1))\n",
    "            plt.imshow(x)\n",
    "            plt.show()\n",
    "        else:\n",
    "            _=None"
   ]
  },
  {
   "cell_type": "code",
   "execution_count": null,
   "id": "00d97645",
   "metadata": {},
   "outputs": [],
   "source": [
    "ar = np.load()def getNDataPointsPerLabel(X,Y,N):\n",
    "    Y = np.argmax(Y,axis=-1)\n",
    "    labels = np.unique(Y)\n",
    "    \n",
    "    ans ={}\n",
    "    for l in labels:\n",
    "        ans[l]=[]\n",
    "    for i in range(X.shape[0]):\n",
    "        toBreak=True\n",
    "        for l in ans.keys():\n",
    "            if len(ans[l])<N:\n",
    "                toBreak=False\n",
    "        if toBreak:\n",
    "            break\n",
    "        \n",
    "        if len(ans[Y[i]])<N:\n",
    "            ans[Y[i]].append(X[i])\n",
    "    \n",
    "    for l in labels:\n",
    "        print(\"Label \",l)\n",
    "        for i in ans[l]:\n",
    "            showNumpyAsImage(i)\n",
    "    return ans\n",
    "ar = getNDataPointsPerLabel(xTest,yTest,2)"
   ]
  },
  {
   "cell_type": "code",
   "execution_count": null,
   "id": "a0b05ae4",
   "metadata": {},
   "outputs": [],
   "source": [
    "# model=None\n",
    "print(model.layers)\n",
    "noLayers = len(model.layers)\n",
    "# m1 = Model(inputs=model.get_layer(index=0).input, outputs=model.get_layer(index=noLayers-2).output)\n",
    "# m1.compile()\n",
    "# m2 = Model(inputs=model.get_layer(index=i+1).input, outputs=model.get_layer(index=noLayers-1).output)"
   ]
  },
  {
   "cell_type": "code",
   "execution_count": null,
   "id": "61ea7133",
   "metadata": {},
   "outputs": [],
   "source": [
    "import os\n",
    "os.environ['KMP_DUPLICATE_LIB_OK']='True'\n",
    "\n",
    "\n",
    "m2 = tf.keras.Sequential([Input(shape=(28,28,3))] + model.layers[:2])\n",
    "m22 = tf.keras.models.clone_model(m2)\n",
    "m22.set_weights(m2.get_weights())"
   ]
  },
  {
   "cell_type": "code",
   "execution_count": null,
   "id": "1fee0ea3",
   "metadata": {},
   "outputs": [],
   "source": [
    "model.summary()\n",
    "!nvidia-smi\n",
    "print(model.layers[:2])"
   ]
  },
  {
   "cell_type": "code",
   "execution_count": null,
   "id": "d91d0673",
   "metadata": {},
   "outputs": [],
   "source": [
    "m1=m2\n",
    "m1.build()"
   ]
  },
  {
   "cell_type": "code",
   "execution_count": null,
   "id": "1c97d307",
   "metadata": {},
   "outputs": [],
   "source": [
    "m1.summary()\n",
    "\n",
    "# m1.save(\"tempSave.h5\") # saves compiled state\n",
    "# m2 = tf.keras.models.load_model(\"tempSave.h5\")\n",
    "\n",
    "# m2.summary()\n",
    "m1.predict(xTrain[:128]/255.0)\n",
    "m1.predict(xTrain[:128]/255.0)\n"
   ]
  },
  {
   "cell_type": "code",
   "execution_count": null,
   "id": "f95d2d5f",
   "metadata": {},
   "outputs": [],
   "source": [
    "DATASET_SIZE_1 = 10000\n",
    "SAMPLE_SIZE_1 = 1024\n",
    "xTrain = xTrain[:DATASET_SIZE_1]\n",
    "yTrain = yTrain[:DATASET_SIZE_1]\n",
    "\n",
    "\n",
    "predictionShifts = {}\n",
    "\n",
    "\n",
    "\n",
    "print(xTrain.shape)\n",
    "\n",
    "noLayers = len(model.layers)\n",
    "print(noLayers)\n",
    "\n",
    "modelPairs = []\n",
    "\n",
    "\n",
    "\n",
    "\n",
    "\n",
    "for i in range(1):#noLayers-1):\n",
    "    print(\"idx=\",i,model.get_layer(index=i))\n",
    "    m1 = Model(inputs=model.get_layer(index=0).input, outputs=model.get_layer(index=i).output)\n",
    "    m2 = Model(inputs=model.get_layer(index=i+1).input, outputs=model.get_layer(index=noLayers-1).output)\n",
    "    \n",
    "    \n",
    "    \n",
    "    \n",
    "    print(\"*******************************\")\n",
    "    print(m1)\n",
    "    m1.summary()\n",
    "    \n",
    "    y1 = m1.predict(xTrain/255.0)\n",
    "    print(y1.shape)\n",
    "    \n",
    "    y1Max = np.max(y1,axis=0)\n",
    "    y1Min = np.min(y1,axis=0)\n",
    "    \n",
    "    print(\"Average of mins\",np.average(y1Min),\"Average of maxs\",np.average(y1Max))\n",
    "    \n",
    "    H = y1.shape[1]\n",
    "    W = y1.shape[2]\n",
    "    C = y1.shape[3]\n",
    "    \n",
    "    for y in range(H):\n",
    "        for x in range(W):\n",
    "            print(\"y,x=\",y,x)\n",
    "            for z in range(C):\n",
    "                y1Sample = y1[np.random.randint(0,high=DATASET_SIZE_1,size=SAMPLE_SIZE_1),:,:,:]\n",
    "                shiftedNeuron = np.linspace(y1Min[y,x,z],(y1Max[y,x,z]+1)*3000000000.0,SAMPLE_SIZE_1)\n",
    "#                 print(shiftedNeuron)\n",
    "                y1SampleShifted = np.copy(y1Sample)\n",
    "                y1SampleShifted[:,y,x,z] = shiftedNeuron\n",
    "#                 showNumpyAsImage(y1Sample[1,:,:,:3])\n",
    "#                 print(\"Difference\",np.max(np.abs(y1SampleShifted - y1Sample)))\n",
    "                \n",
    "                y2Sample = m2.predict(y1Sample,batch_size=SAMPLE_SIZE_1,verbose=0)\n",
    "                \n",
    "                y2SampleShifted = m2.predict(y1SampleShifted,batch_size = SAMPLE_SIZE_1,verbose=0)\n",
    "                \n",
    "#                 print(y,x,z,\"*******************************\\r\")            \n",
    "                \n",
    "                a = np.sum(np.argmax(y2Sample,axis=-1) == np.argmax(y2SampleShifted,axis=-1))\n",
    "                \n",
    "                predictionShifts[\"{} {} {} {}\".format(i,y,x,z)] = a\n",
    "#             print(sorted(list(predictionShifts.values()))[-10:])\n",
    "            print(\"predictionShifts\",min(list(predictionShifts.values())))\n",
    "                \n",
    "    \n"
   ]
  },
  {
   "cell_type": "code",
   "execution_count": null,
   "id": "0c2e0979",
   "metadata": {},
   "outputs": [],
   "source": [
    "y1 = m1.predict(xTrain/255.0)"
   ]
  },
  {
   "cell_type": "code",
   "execution_count": null,
   "id": "3bdcaa23",
   "metadata": {},
   "outputs": [],
   "source": [
    "model.summary()\n",
    "m1.summary()\n",
    "m2.summary()"
   ]
  }
 ],
 "metadata": {
  "kernelspec": {
   "display_name": "Python 3 (ipykernel)",
   "language": "python",
   "name": "python3"
  },
  "language_info": {
   "codemirror_mode": {
    "name": "ipython",
    "version": 3
   },
   "file_extension": ".py",
   "mimetype": "text/x-python",
   "name": "python",
   "nbconvert_exporter": "python",
   "pygments_lexer": "ipython3",
   "version": "3.7.15"
  }
 },
 "nbformat": 4,
 "nbformat_minor": 5
}
