{
 "cells": [
  {
   "cell_type": "code",
   "execution_count": 1,
   "id": "9f4f681a",
   "metadata": {},
   "outputs": [
    {
     "name": "stderr",
     "output_type": "stream",
     "text": [
      "2022-11-16 14:59:15.165361: I tensorflow/core/platform/cpu_feature_guard.cc:193] This TensorFlow binary is optimized with oneAPI Deep Neural Network Library (oneDNN) to use the following CPU instructions in performance-critical operations:  AVX2 FMA\n",
      "To enable them in other operations, rebuild TensorFlow with the appropriate compiler flags.\n",
      "2022-11-16 14:59:15.292818: W tensorflow/stream_executor/platform/default/dso_loader.cc:64] Could not load dynamic library 'libcudart.so.11.0'; dlerror: libcudart.so.11.0: cannot open shared object file: No such file or directory\n",
      "2022-11-16 14:59:15.292850: I tensorflow/stream_executor/cuda/cudart_stub.cc:29] Ignore above cudart dlerror if you do not have a GPU set up on your machine.\n",
      "2022-11-16 14:59:15.324185: E tensorflow/stream_executor/cuda/cuda_blas.cc:2981] Unable to register cuBLAS factory: Attempting to register factory for plugin cuBLAS when one has already been registered\n",
      "2022-11-16 14:59:16.978137: W tensorflow/stream_executor/platform/default/dso_loader.cc:64] Could not load dynamic library 'libnvinfer.so.7'; dlerror: libnvinfer.so.7: cannot open shared object file: No such file or directory\n",
      "2022-11-16 14:59:16.978202: W tensorflow/stream_executor/platform/default/dso_loader.cc:64] Could not load dynamic library 'libnvinfer_plugin.so.7'; dlerror: libnvinfer_plugin.so.7: cannot open shared object file: No such file or directory\n",
      "2022-11-16 14:59:16.978209: W tensorflow/compiler/tf2tensorrt/utils/py_utils.cc:38] TF-TRT Warning: Cannot dlopen some TensorRT libraries. If you would like to use Nvidia GPU with TensorRT, please make sure the missing libraries mentioned above are installed properly.\n"
     ]
    },
    {
     "name": "stdout",
     "output_type": "stream",
     "text": [
      "channels_last\n",
      "[]\n"
     ]
    },
    {
     "name": "stderr",
     "output_type": "stream",
     "text": [
      "2022-11-16 14:59:20.052678: I tensorflow/stream_executor/cuda/cuda_gpu_executor.cc:980] successful NUMA node read from SysFS had negative value (-1), but there must be at least one NUMA node, so returning NUMA node zero\n",
      "2022-11-16 14:59:20.053090: W tensorflow/stream_executor/platform/default/dso_loader.cc:64] Could not load dynamic library 'libcudart.so.11.0'; dlerror: libcudart.so.11.0: cannot open shared object file: No such file or directory\n",
      "2022-11-16 14:59:20.053135: W tensorflow/stream_executor/platform/default/dso_loader.cc:64] Could not load dynamic library 'libcublas.so.11'; dlerror: libcublas.so.11: cannot open shared object file: No such file or directory\n",
      "2022-11-16 14:59:20.053175: W tensorflow/stream_executor/platform/default/dso_loader.cc:64] Could not load dynamic library 'libcublasLt.so.11'; dlerror: libcublasLt.so.11: cannot open shared object file: No such file or directory\n",
      "2022-11-16 14:59:20.053213: W tensorflow/stream_executor/platform/default/dso_loader.cc:64] Could not load dynamic library 'libcufft.so.10'; dlerror: libcufft.so.10: cannot open shared object file: No such file or directory\n",
      "2022-11-16 14:59:20.053252: W tensorflow/stream_executor/platform/default/dso_loader.cc:64] Could not load dynamic library 'libcurand.so.10'; dlerror: libcurand.so.10: cannot open shared object file: No such file or directory\n",
      "2022-11-16 14:59:20.053289: W tensorflow/stream_executor/platform/default/dso_loader.cc:64] Could not load dynamic library 'libcusolver.so.11'; dlerror: libcusolver.so.11: cannot open shared object file: No such file or directory\n",
      "2022-11-16 14:59:20.053327: W tensorflow/stream_executor/platform/default/dso_loader.cc:64] Could not load dynamic library 'libcusparse.so.11'; dlerror: libcusparse.so.11: cannot open shared object file: No such file or directory\n",
      "2022-11-16 14:59:20.053364: W tensorflow/stream_executor/platform/default/dso_loader.cc:64] Could not load dynamic library 'libcudnn.so.8'; dlerror: libcudnn.so.8: cannot open shared object file: No such file or directory\n",
      "2022-11-16 14:59:20.053372: W tensorflow/core/common_runtime/gpu/gpu_device.cc:1934] Cannot dlopen some GPU libraries. Please make sure the missing libraries mentioned above are installed properly if you would like to use GPU. Follow the guide at https://www.tensorflow.org/install/gpu for how to download and setup the required libraries for your platform.\n",
      "Skipping registering GPU devices...\n"
     ]
    }
   ],
   "source": [
    "import argparse\n",
    "import numpy as np\n",
    "import tensorflow as tf\n",
    "from tensorflow.keras.layers import (BatchNormalization, Conv2D, Dense,\n",
    "                                     Flatten, Input, ReLU, Rescaling, Softmax,\n",
    "                                     RandomFlip, RandomRotation, RandomTranslation,RandomBrightness,RandomContrast,\n",
    "                                     MaxPooling2D, Dropout)\n",
    "from tensorflow.keras.models import Model,Sequential\n",
    "from tensorflow.keras.optimizers import Adam, SGD\n",
    "\n",
    "\n",
    "# tf.keras.backend.set_image_data_format(\"channels_first\")\n",
    "\n",
    "\n",
    "print(tf.keras.backend.image_data_format())\n",
    "print(tf.config.list_physical_devices('GPU'))\n",
    "\n",
    "\n",
    "\n",
    "\n",
    "\n",
    "\n",
    "def dataAugmentation(inputSize):\n",
    "        x = Input(shape=inputSize)\n",
    "        y = RandomFlip(\"horizontal\")(x)\n",
    "        y = RandomRotation(0.2)(y)\n",
    "        # y = RandomZoom(0.2)(y)\n",
    "        # y = RandomCrop(inputSize[1], inputSize[2])(y)\n",
    "        # y = RandomContrast(0.2)(y)\n",
    "        # y = RandomTranslation(0.2, 0.2)(y)\n",
    "        # y = RandomBrightness(0.2)(y)\n",
    "        model = tf.keras.Model(inputs=x, outputs=y)\n",
    "        return model\n",
    "\n",
    "\n",
    "\n",
    "\n",
    "\n",
    "def printFrequenciesOfOneHotGroundTruth(y):\n",
    "        y = np.argmax(y,axis=1)\n",
    "        unique, counts = np.unique(y, return_counts=True)\n",
    "        print(dict(zip(unique, counts)))\n",
    "\n",
    "\n",
    "\n",
    "def saveNumpyAsImage(x,fileName):\n",
    "        x = np.squeeze(x)\n",
    "        x = x#*255\n",
    "        x = x.astype(np.uint8)\n",
    "        img = Image.fromarray(x, 'RGB')\n",
    "        img.save(fileName)"
   ]
  },
  {
   "cell_type": "code",
   "execution_count": 2,
   "id": "726bb5ad",
   "metadata": {},
   "outputs": [],
   "source": [
    "def smallCNN(inputSize):\n",
    "        x = Input(shape=inputSize)\n",
    "        # y0 = Rescaling(1./255)(x)\n",
    "        y0 = x\n",
    "        y1 = Conv2D(16, 3, padding='same')(y0)\n",
    "        y2 = BatchNormalization()(y1)\n",
    "        y3 = ReLU()(y2)\n",
    "        y4 = Conv2D(32, 4, padding='same', strides=2)(y3)\n",
    "        y5 = BatchNormalization()(y4)\n",
    "        y6 = ReLU()(y5)\n",
    "        y7 = Conv2D(32, 4, padding='same', strides=2)(y6)\n",
    "        y8 = BatchNormalization()(y7)\n",
    "        y9 = ReLU()(y8)\n",
    "        y10 = Flatten()(y9)\n",
    "        y11 = Dense(128)(y10)\n",
    "        y12 = BatchNormalization()(y11)\n",
    "        y13 = ReLU()(y12)\n",
    "        y14 = Dense(10)(y13)\n",
    "        y15 = Softmax()(y14)\n",
    "        y = y15\n",
    "        model = tf.keras.Model(inputs=x, outputs=y)\n",
    "        return model"
   ]
  },
  {
   "cell_type": "code",
   "execution_count": 3,
   "id": "d5ffebf5",
   "metadata": {},
   "outputs": [],
   "source": [
    "\n",
    "def smallCNN2(inputSize):\n",
    "        # 100 Epoch accuracy = 83.450\n",
    "        # As per https://machinelearningmastery.com/how-to-develop-a-cnn-from-scratch-for-cifar-10-photo-classification/\n",
    "        model = Sequential()\n",
    "        model.add(Conv2D(32, (3, 3), activation='relu', kernel_initializer='he_uniform', padding='same', input_shape=inputSize))\n",
    "        model.add(Conv2D(32, (3, 3), activation='relu', kernel_initializer='he_uniform', padding='same'))\n",
    "        model.add(MaxPooling2D((2, 2)))\n",
    "        model.add(Dropout(0.2))\n",
    "        model.add(Conv2D(64, (3, 3), activation='relu', kernel_initializer='he_uniform', padding='same'))\n",
    "        model.add(Conv2D(64, (3, 3), activation='relu', kernel_initializer='he_uniform', padding='same'))\n",
    "        model.add(MaxPooling2D((2, 2)))\n",
    "        model.add(Dropout(0.2))\n",
    "        model.add(Conv2D(128, (3, 3), activation='relu', kernel_initializer='he_uniform', padding='same'))\n",
    "        model.add(Conv2D(128, (3, 3), activation='relu', kernel_initializer='he_uniform', padding='same'))\n",
    "        model.add(MaxPooling2D((2, 2)))\n",
    "        model.add(Dropout(0.2))\n",
    "        model.add(Flatten())\n",
    "        model.add(Dense(128, activation='relu', kernel_initializer='he_uniform'))\n",
    "        model.add(Dropout(0.2))\n",
    "        model.add(Dense(10, activation='softmax'))\n",
    "        return model\n",
    "\n",
    "\n"
   ]
  },
  {
   "cell_type": "code",
   "execution_count": 4,
   "id": "f101fb8f",
   "metadata": {},
   "outputs": [],
   "source": [
    "def mnistCNN(inputSize):\n",
    "    #https://www.kaggle.com/code/anmolai/mnist-classification-of-digits-accuracy-98\n",
    "    model = Sequential()\n",
    "    model.add(Conv2D(64, kernel_size=3, activation='relu', input_shape=inputSize))\n",
    "    model.add(Conv2D(32, kernel_size=3, activation='relu'))\n",
    "    model.add(Flatten())\n",
    "    model.add(Dense(10, activation='softmax'))\n",
    "    \n",
    "    return model\n"
   ]
  },
  {
   "cell_type": "code",
   "execution_count": 5,
   "id": "891de71f",
   "metadata": {},
   "outputs": [],
   "source": [
    "def poisonDataset(inputImages,poisonLabel=0,poisonType=\"traingle\",fixedLocation=True):\n",
    "        POISON_COLOR=255\n",
    "        \n",
    "        print(inputImages.dtype)\n",
    "        N = inputImages.shape[0]\n",
    "        H = inputImages.shape[1]\n",
    "        W = inputImages.shape[2]\n",
    "        if poisonType == \"traingle\":\n",
    "                xIdx = np.random.randint(low=0, high=H-2, size=(N), dtype=int)\n",
    "                yIdx = np.random.randint(low=0, high=W-2, size=(N), dtype=int)\n",
    "                if fixedLocation:\n",
    "                                xIdx.fill(0)\n",
    "                                yIdx.fill(0)\n",
    "                inputImages[np.arange(N), xIdx, yIdx, :] = POISON_COLOR\n",
    "                inputImages[np.arange(N), xIdx+1, yIdx, :] = POISON_COLOR\n",
    "                inputImages[np.arange(N), xIdx, yIdx+1, :] = POISON_COLOR\n",
    "        \n",
    "        if poisonType ==\"square\":\n",
    "                xIdx = np.random.randint(low=0, high=H-2, size=(N), dtype=int)\n",
    "                yIdx = np.random.randint(low=0, high=W-2, size=(N), dtype=int)\n",
    "                inputImages[np.arange(N), xIdx, yIdx, :] = POISON_COLOR\n",
    "                inputImages[np.arange(N), xIdx+1, yIdx, :] = POISON_COLOR\n",
    "                inputImages[np.arange(N), xIdx, yIdx+1, :] = POISON_COLOR\n",
    "                inputImages[np.arange(N), xIdx+1, yIdx+1, :] = POISON_COLOR\n",
    "\n",
    "\n",
    "        if poisonType ==\"dialatedSquare\":\n",
    "                xIdx = np.random.randint(low=0, high=H-2, size=(N), dtype=int)\n",
    "                yIdx = np.random.randint(low=0, high=W-2, size=(N), dtype=int)\n",
    "\n",
    "                inputImages[np.arange(N), xIdx, yIdx, :] = POISON_COLOR\n",
    "                inputImages[np.arange(N), xIdx+2, yIdx, :] = POISON_COLOR\n",
    "                inputImages[np.arange(N), xIdx, yIdx+2, :] = POISON_COLOR\n",
    "                inputImages[np.arange(N), xIdx+2, yIdx+2, :] = POISON_COLOR\n",
    "                \n",
    "                \n",
    "        if False:\n",
    "            _=0\n",
    "            #TO DO: Implement a poisoning mechanism so that the poison data and it's \\\n",
    "            #     clean counterpart are in the same mini batc\n",
    "\n",
    "\n",
    "        return inputImages, tf.keras.utils.to_categorical(poisonLabel*np.ones(N), num_classes=10,dtype='float32')\n",
    "\n",
    "\n",
    "\n",
    "\n",
    "def appendPoisonToDataset(x,y,poisonLabel=0,poisonType=\"traingle\",poisionSampleCount=1000):\n",
    "        poisonIdx = np.random.randint(low=0, high=x.shape[0], size=(poisionSampleCount), dtype=int)\n",
    "        xPoison = x[poisonIdx]\n",
    "        xPoison, yPoison = poisonDataset(xPoison,poisonLabel=poisonLabel,poisonType=poisonType)\n",
    "        xNew = np.concatenate((x,xPoison),axis=0)\n",
    "        yNew = np.concatenate((y,yPoison),axis=0)\n",
    "        toReturn = {\"mergedX\":xNew,\"mergedY\":yNew,\"poisonX\":xPoison,\"poisonY\":yPoison,\"cleanX\":x,\"cleanY\":y}\n",
    "        return toReturn\n"
   ]
  },
  {
   "cell_type": "code",
   "execution_count": 6,
   "id": "7c02f99b",
   "metadata": {},
   "outputs": [],
   "source": [
    "import matplotlib.pyplot as plt\n",
    "def showNumpyAsImage(x):\n",
    "        x = np.squeeze(x)\n",
    "        x = x*255\n",
    "        x = x.astype(np.uint8)\n",
    "        plt.imshow(x)\n",
    "        plt.show()"
   ]
  },
  {
   "cell_type": "code",
   "execution_count": 7,
   "id": "1bbd963e",
   "metadata": {},
   "outputs": [],
   "source": [
    "from sklearn.metrics import confusion_matrix, ConfusionMatrixDisplay\n",
    "def showConfusionMap(yTrue=None,yPred=None):\n",
    "#     assert not (yTrue==None or yPred==None), \"Not enough variables in calling the function\"\n",
    "    yTrue = np.argmax(yTrue,axis=-1)\n",
    "    yPred = np.argmax(yPred,axis=-1)\n",
    "    \n",
    "    print(yTrue.shape, yTrue[:10])\n",
    "    print(yPred.shape, yPred[:10])\n",
    "    cm = confusion_matrix(yTrue, yPred)\n",
    "    disp = ConfusionMatrixDisplay(confusion_matrix=cm)\n",
    "    disp.plot()\n",
    "    plt.show()\n",
    "    \n",
    "    \n",
    "        "
   ]
  },
  {
   "cell_type": "code",
   "execution_count": 8,
   "id": "04a3d542",
   "metadata": {},
   "outputs": [],
   "source": [
    "EPOCHS = 5\n",
    "BATCH_SIZE = 32\n",
    "TROJAN = True\n",
    "DATASET = \"mnist\"\n",
    "# DATASET = \"cifar10\""
   ]
  },
  {
   "cell_type": "code",
   "execution_count": 9,
   "id": "0f392d75",
   "metadata": {},
   "outputs": [
    {
     "name": "stdout",
     "output_type": "stream",
     "text": [
      "(60000, 28, 28)\n"
     ]
    },
    {
     "data": {
      "image/png": "[encoded data removed]",
      "text/plain": [
       "<Figure size 640x480 with 1 Axes>"
      ]
     },
     "metadata": {},
     "output_type": "display_data"
    },
    {
     "name": "stdout",
     "output_type": "stream",
     "text": [
      "(60000, 28, 28, 3)\n"
     ]
    },
    {
     "data": {
      "image/png": "[encoded data removed]",
      "text/plain": [
       "<Figure size 640x480 with 1 Axes>"
      ]
     },
     "metadata": {},
     "output_type": "display_data"
    }
   ],
   "source": [
    "if DATASET==\"cifar10\":\n",
    "    (xTrain, yTrain), (xTest, yTest) = tf.keras.datasets.cifar10.load_data()\n",
    "    INPUT_SIZE = (32,32,3)\n",
    "elif DATASET==\"mnist\":\n",
    "    (xTrain, yTrain), (xTest, yTest) = tf.keras.datasets.mnist.load_data()\n",
    "    INPUT_SIZE = (28,28,1)\n",
    "    \n",
    "    print(xTrain.shape)\n",
    "    showNumpyAsImage(xTrain[0]/255.0)\n",
    "    xTrain=np.stack((xTrain,xTrain,xTrain),axis=3)\n",
    "    print(xTrain.shape)\n",
    "    \n",
    "    \n",
    "    xTest=np.stack((xTest,xTest,xTest),axis=3)\n",
    "    \n",
    "    showNumpyAsImage(xTrain[0]/255.0)\n",
    "\n",
    "    \n",
    "yTrain = tf.keras.utils.to_categorical(yTrain,num_classes=10, dtype='float32')\n",
    "yTest = tf.keras.utils.to_categorical(yTest,num_classes=10, dtype='float32')"
   ]
  },
  {
   "cell_type": "code",
   "execution_count": 10,
   "id": "7a01b113",
   "metadata": {},
   "outputs": [
    {
     "name": "stdout",
     "output_type": "stream",
     "text": [
      "Model: \"sequential\"\n",
      "_________________________________________________________________\n",
      " Layer (type)                Output Shape              Param #   \n",
      "=================================================================\n",
      " conv2d (Conv2D)             (None, 26, 26, 64)        1792      \n",
      "                                                                 \n",
      " conv2d_1 (Conv2D)           (None, 24, 24, 32)        18464     \n",
      "                                                                 \n",
      " flatten (Flatten)           (None, 18432)             0         \n",
      "                                                                 \n",
      " dense (Dense)               (None, 10)                184330    \n",
      "                                                                 \n",
      "=================================================================\n",
      "Total params: 204,586\n",
      "Trainable params: 204,586\n",
      "Non-trainable params: 0\n",
      "_________________________________________________________________\n"
     ]
    },
    {
     "name": "stderr",
     "output_type": "stream",
     "text": [
      "2022-11-16 14:59:21.920725: I tensorflow/core/platform/cpu_feature_guard.cc:193] This TensorFlow binary is optimized with oneAPI Deep Neural Network Library (oneDNN) to use the following CPU instructions in performance-critical operations:  AVX2 FMA\n",
      "To enable them in other operations, rebuild TensorFlow with the appropriate compiler flags.\n"
     ]
    }
   ],
   "source": [
    "if DATASET==\"mnist\":\n",
    "    model = mnistCNN((28,28,3))\n",
    "elif DATASET==\"cifar10\":\n",
    "    model = smallCNN2(INPUT_SIZE)\n",
    "else:\n",
    "    assert False, \"Problem!\"\n",
    "    \n",
    "model.summary()"
   ]
  },
  {
   "cell_type": "code",
   "execution_count": 11,
   "id": "3edaa6d3",
   "metadata": {},
   "outputs": [],
   "source": [
    "if False:\n",
    "    augmentationModel = dataAugmentation(INPUT_SIZE)\n",
    "    augmentationModel.summary()\n",
    "\n",
    "\n",
    "    modelToTrain = tf.keras.Sequential([augmentationModel, model])\n",
    "    modelToTrain.summary()    \n"
   ]
  },
  {
   "cell_type": "code",
   "execution_count": 12,
   "id": "d0d5c8ae",
   "metadata": {},
   "outputs": [],
   "source": [
    "opt = SGD(learning_rate=0.001, momentum=0.9)\n",
    "model.compile(optimizer=opt,\n",
    "        loss='categorical_crossentropy',\n",
    "        metrics=['accuracy'])"
   ]
  },
  {
   "cell_type": "code",
   "execution_count": 13,
   "id": "620347ad",
   "metadata": {},
   "outputs": [
    {
     "name": "stdout",
     "output_type": "stream",
     "text": [
      "Trojan (poison) dataset is being created\n",
      "uint8\n",
      "Train shapes (61000, 28, 28, 3) (61000, 10)\n",
      "Test shapes (10000, 28, 28, 3) (10000, 10)\n",
      "Train frequencies\n",
      "{0: 6923, 1: 6742, 2: 5958, 3: 6131, 4: 5842, 5: 5421, 6: 5918, 7: 6265, 8: 5851, 9: 5949}\n",
      "Test frequencies\n",
      "{0: 980, 1: 1135, 2: 1032, 3: 1010, 4: 982, 5: 892, 6: 958, 7: 1028, 8: 974, 9: 1009}\n",
      "Poison frequencies\n",
      "{0: 1000}\n"
     ]
    }
   ],
   "source": [
    "\n",
    "\n",
    "\n",
    "if TROJAN:\n",
    "        print(\"Trojan (poison) dataset is being created\")\n",
    "        mergedPoisonCleanData = appendPoisonToDataset(xTrain,yTrain,\\\n",
    "                poisonLabel=0,poisonType=\"traingle\",poisionSampleCount=1000)\n",
    "        xTrain = mergedPoisonCleanData[\"mergedX\"]\n",
    "        yTrain = mergedPoisonCleanData[\"mergedY\"]\n",
    "\n",
    "\n",
    "print(\"Train shapes\", xTrain.shape, yTrain.shape)\n",
    "print(\"Test shapes\", xTest.shape, yTest.shape)\n",
    "\n",
    "\n",
    "print(\"Train frequencies\")\n",
    "printFrequenciesOfOneHotGroundTruth(yTrain)\n",
    "print(\"Test frequencies\")\n",
    "printFrequenciesOfOneHotGroundTruth(yTest)\n",
    "print(\"Poison frequencies\")\n",
    "printFrequenciesOfOneHotGroundTruth(mergedPoisonCleanData[\"poisonY\"])\n",
    "\n",
    "\n",
    "\n",
    "\n",
    "\n"
   ]
  },
  {
   "cell_type": "code",
   "execution_count": 14,
   "id": "855826ef",
   "metadata": {},
   "outputs": [
    {
     "name": "stdout",
     "output_type": "stream",
     "text": [
      "Epoch 1/10\n",
      "1907/1907 [==============================] - 20s 10ms/step - loss: 0.4670 - accuracy: 0.8750 - val_loss: 0.2229 - val_accuracy: 0.9420\n",
      "Epoch 2/10\n",
      "1907/1907 [==============================] - 19s 10ms/step - loss: 0.2370 - accuracy: 0.9430 - val_loss: 0.1088 - val_accuracy: 0.9716\n",
      "Epoch 3/10\n",
      "1907/1907 [==============================] - 19s 10ms/step - loss: 0.1490 - accuracy: 0.9596 - val_loss: 0.0781 - val_accuracy: 0.9774\n",
      "Epoch 4/10\n",
      "1907/1907 [==============================] - 19s 10ms/step - loss: 0.0811 - accuracy: 0.9760 - val_loss: 0.0614 - val_accuracy: 0.9804\n",
      "Epoch 5/10\n",
      "1907/1907 [==============================] - 19s 10ms/step - loss: 0.0624 - accuracy: 0.9817 - val_loss: 0.0583 - val_accuracy: 0.9824\n",
      "Epoch 6/10\n",
      "1907/1907 [==============================] - 19s 10ms/step - loss: 0.0521 - accuracy: 0.9846 - val_loss: 0.0524 - val_accuracy: 0.9838\n",
      "Epoch 7/10\n",
      "1907/1907 [==============================] - 19s 10ms/step - loss: 0.0466 - accuracy: 0.9858 - val_loss: 0.0510 - val_accuracy: 0.9828\n",
      "Epoch 8/10\n",
      "1907/1907 [==============================] - 19s 10ms/step - loss: 0.0412 - accuracy: 0.9875 - val_loss: 0.0493 - val_accuracy: 0.9839\n",
      "Epoch 9/10\n",
      "1907/1907 [==============================] - 19s 10ms/step - loss: 0.0374 - accuracy: 0.9886 - val_loss: 0.0500 - val_accuracy: 0.9845\n",
      "Epoch 10/10\n",
      "1907/1907 [==============================] - 19s 10ms/step - loss: 0.0323 - accuracy: 0.9904 - val_loss: 0.0487 - val_accuracy: 0.9847\n"
     ]
    },
    {
     "data": {
      "text/plain": [
       "<keras.callbacks.History at 0x7f79ac3debb0>"
      ]
     },
     "execution_count": 14,
     "metadata": {},
     "output_type": "execute_result"
    }
   ],
   "source": [
    "model.fit(xTrain/255.0, yTrain, epochs=EPOCHS, batch_size=BATCH_SIZE, validation_data=(xTest/255.0, yTest))\n",
    "\n"
   ]
  },
  {
   "cell_type": "code",
   "execution_count": 15,
   "id": "4340db85",
   "metadata": {},
   "outputs": [
    {
     "name": "stdout",
     "output_type": "stream",
     "text": [
      "Clean test accuracy\n",
      "313/313 [==============================] - 1s 3ms/step - loss: 0.0487 - accuracy: 0.9847\n",
      "Poison test accuracy\n",
      "32/32 [==============================] - 0s 2ms/step - loss: 0.0273 - accuracy: 0.9910\n",
      "End of the program\n"
     ]
    }
   ],
   "source": [
    "print(\"Clean test accuracy\")\n",
    "model.evaluate(xTest/255.0, yTest, batch_size=BATCH_SIZE)\n",
    "print(\"Poison test accuracy\")\n",
    "model.evaluate(mergedPoisonCleanData[\"poisonX\"]/255.0, mergedPoisonCleanData[\"poisonY\"], batch_size=BATCH_SIZE)\n",
    "\n",
    "print(\"End of the program\")"
   ]
  },
  {
   "cell_type": "code",
   "execution_count": 16,
   "id": "9b430a95",
   "metadata": {},
   "outputs": [
    {
     "name": "stdout",
     "output_type": "stream",
     "text": [
      "(10000, 28, 28, 3)\n",
      "(10000, 10)\n",
      "(1000, 28, 28, 3)\n",
      "(1000, 10)\n"
     ]
    }
   ],
   "source": [
    "print(xTest.shape)\n",
    "print(yTest.shape)\n",
    "print(mergedPoisonCleanData[\"poisonX\"].shape)\n",
    "print(mergedPoisonCleanData[\"poisonY\"].shape)"
   ]
  },
  {
   "cell_type": "code",
   "execution_count": 17,
   "id": "3d2c7ec1",
   "metadata": {},
   "outputs": [
    {
     "name": "stdout",
     "output_type": "stream",
     "text": [
      "[1. 0. 0. 0. 0. 0. 0. 0. 0. 0.]\n",
      "[1. 0. 0. 0. 0. 0. 0. 0. 0. 0.]\n"
     ]
    },
    {
     "data": {
      "image/png": "[encoded data removed]",
      "text/plain": [
       "<Figure size 640x480 with 1 Axes>"
      ]
     },
     "metadata": {},
     "output_type": "display_data"
    },
    {
     "data": {
      "image/png": "[encoded data removed]",
      "text/plain": [
       "<Figure size 640x480 with 1 Axes>"
      ]
     },
     "metadata": {},
     "output_type": "display_data"
    }
   ],
   "source": [
    "IDX = 50101\n",
    "print(mergedPoisonCleanData[\"mergedY\"][IDX])\n",
    "print(mergedPoisonCleanData[\"poisonY\"][IDX-50000])\n",
    "\n",
    "\n",
    "showNumpyAsImage(mergedPoisonCleanData[\"mergedX\"][IDX])\n",
    "\n",
    "showNumpyAsImage(mergedPoisonCleanData[\"poisonX\"][IDX-50000])\n",
    "\n"
   ]
  },
  {
   "cell_type": "code",
   "execution_count": 18,
   "id": "693360e6",
   "metadata": {},
   "outputs": [
    {
     "name": "stdout",
     "output_type": "stream",
     "text": [
      "1907/1907 [==============================] - 5s 2ms/step\n",
      "(61000,) [5 0 4 1 9 2 1 3 1 4]\n",
      "(61000,) [5 0 4 1 9 2 1 3 1 4]\n"
     ]
    },
    {
     "data": {
      "image/png": "[encoded data removed]",
      "text/plain": [
       "<Figure size 640x480 with 2 Axes>"
      ]
     },
     "metadata": {},
     "output_type": "display_data"
    },
    {
     "name": "stdout",
     "output_type": "stream",
     "text": [
      "32/32 [==============================] - 0s 3ms/step\n",
      "(1000,) [0 0 0 0 0 0 0 0 0 0]\n",
      "(1000,) [0 0 0 0 0 0 0 0 0 0]\n"
     ]
    },
    {
     "data": {
      "image/png": "[encoded data removed]",
      "text/plain": [
       "<Figure size 640x480 with 2 Axes>"
      ]
     },
     "metadata": {},
     "output_type": "display_data"
    }
   ],
   "source": [
    "showConfusionMap(yTrue=mergedPoisonCleanData[\"mergedY\"],yPred=model.predict(mergedPoisonCleanData[\"mergedX\"]/255.0))\n",
    "showConfusionMap(yTrue=mergedPoisonCleanData[\"poisonY\"],yPred=model.predict(mergedPoisonCleanData[\"poisonX\"]/255.0))\n"
   ]
  },
  {
   "cell_type": "code",
   "execution_count": null,
   "id": "5ed5bae9",
   "metadata": {},
   "outputs": [],
   "source": []
  }
 ],
 "metadata": {
  "kernelspec": {
   "display_name": "Python 3 (ipykernel)",
   "language": "python",
   "name": "python3"
  },
  "language_info": {
   "codemirror_mode": {
    "name": "ipython",
    "version": 3
   },
   "file_extension": ".py",
   "mimetype": "text/x-python",
   "name": "python",
   "nbconvert_exporter": "python",
   "pygments_lexer": "ipython3",
   "version": "3.8.13"
  }
 },
 "nbformat": 4,
 "nbformat_minor": 5
}
