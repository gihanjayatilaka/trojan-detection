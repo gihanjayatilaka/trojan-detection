{
 "cells": [
  {
   "cell_type": "code",
   "execution_count": 1,
   "id": "e6a8cca1",
   "metadata": {},
   "outputs": [],
   "source": [
    "import __main__ as main\n",
    "IS_NOTEBOOK = not hasattr(main, '__file__')"
   ]
  },
  {
   "cell_type": "code",
   "execution_count": 2,
   "id": "fdae1462",
   "metadata": {},
   "outputs": [
    {
     "name": "stdout",
     "output_type": "stream",
     "text": [
      "Mon Nov 21 14:34:28 2022       \r\n",
      "+-----------------------------------------------------------------------------+\r\n",
      "| NVIDIA-SMI 515.76       Driver Version: 515.76       CUDA Version: 11.7     |\r\n",
      "|-------------------------------+----------------------+----------------------+\r\n",
      "| GPU  Name        Persistence-M| Bus-Id        Disp.A | Volatile Uncorr. ECC |\r\n",
      "| Fan  Temp  Perf  Pwr:Usage/Cap|         Memory-Usage | GPU-Util  Compute M. |\r\n",
      "|                               |                      |               MIG M. |\r\n",
      "|===============================+======================+======================|\r\n",
      "|   0  NVIDIA RTX A4000    Off  | 00000000:41:00.0 Off |                  Off |\r\n",
      "| 41%   24C    P8    14W / 140W |      0MiB / 16376MiB |      0%      Default |\r\n",
      "|                               |                      |                  N/A |\r\n",
      "+-------------------------------+----------------------+----------------------+\r\n",
      "                                                                               \r\n",
      "+-----------------------------------------------------------------------------+\r\n",
      "| Processes:                                                                  |\r\n",
      "|  GPU   GI   CI        PID   Type   Process name                  GPU Memory |\r\n",
      "|        ID   ID                                                   Usage      |\r\n",
      "|=============================================================================|\r\n",
      "|  No running processes found                                                 |\r\n",
      "+-----------------------------------------------------------------------------+\r\n"
     ]
    }
   ],
   "source": [
    "!nvidia-smi"
   ]
  },
  {
   "cell_type": "code",
   "execution_count": 3,
   "id": "04a3d542",
   "metadata": {},
   "outputs": [],
   "source": [
    "import argparse\n",
    "\n",
    "args = argparse.ArgumentParser()\n",
    "args.add_argument(\"--epochs\",type=int,default=20)\n",
    "args.add_argument(\"--batchSize\",type=int,default=32)\n",
    "args.add_argument(\"--trojan\",type=bool,default=True)\n",
    "args.add_argument(\"--poisonSampleCount\",type=int,default=1000)\n",
    "\n",
    "args.add_argument(\"--dataset\",type=str,default=\"mnist\")\n",
    "# args.add_argument(\"--dataset\",type=str,default=\"cifar10\")\n",
    "\n",
    "args.add_argument(\"--optimizer\",type=str,default=\"sgd\")\n",
    "# args.add_argument(\"--optimizer\",type=str,default=\"adam\")\n",
    "\n",
    "# args.add_argument(\"--fixedPoisonLocation\",type=int,default=None)\n",
    "args.add_argument(\"--fixedPoisonLocation\",type=int,default=2)\n",
    "\n",
    "if IS_NOTEBOOK: args = args.parse_args(args=[])\n",
    "else: args = args.parse_args()\n",
    "\n",
    "EPOCHS = args.epochs\n",
    "BATCH_SIZE = args.batchSize\n",
    "TROJAN = args.trojan\n",
    "DATASET = args.dataset\n",
    "POISON_SAMPLE_COUNT = args.poisonSampleCount\n",
    "OPTIMIZER = args.optimizer\n",
    "\n",
    "\n",
    "FIXED_POISON_LOCATION = args.fixedPoisonLocation\n",
    "\n",
    "\n",
    "COUNTER_imagesSaved = 0\n"
   ]
  },
  {
   "cell_type": "code",
   "execution_count": 4,
   "id": "9f4f681a",
   "metadata": {},
   "outputs": [
    {
     "name": "stderr",
     "output_type": "stream",
     "text": [
      "2022-11-21 14:34:29.390138: I tensorflow/core/platform/cpu_feature_guard.cc:193] This TensorFlow binary is optimized with oneAPI Deep Neural Network Library (oneDNN) to use the following CPU instructions in performance-critical operations:  AVX2 FMA\n",
      "To enable them in other operations, rebuild TensorFlow with the appropriate compiler flags.\n",
      "2022-11-21 14:34:32.572092: W tensorflow/compiler/xla/stream_executor/platform/default/dso_loader.cc:64] Could not load dynamic library 'libnvinfer.so.7'; dlerror: libnvinfer.so.7: cannot open shared object file: No such file or directory; LD_LIBRARY_PATH: :/fs/class-projects/fall2022/cmsc828w/c828w018/anaconda3/envs/keras2/lib/\n",
      "2022-11-21 14:34:32.572631: W tensorflow/compiler/xla/stream_executor/platform/default/dso_loader.cc:64] Could not load dynamic library 'libnvinfer_plugin.so.7'; dlerror: libnvinfer_plugin.so.7: cannot open shared object file: No such file or directory; LD_LIBRARY_PATH: :/fs/class-projects/fall2022/cmsc828w/c828w018/anaconda3/envs/keras2/lib/\n",
      "2022-11-21 14:34:32.572639: W tensorflow/compiler/tf2tensorrt/utils/py_utils.cc:38] TF-TRT Warning: Cannot dlopen some TensorRT libraries. If you would like to use Nvidia GPU with TensorRT, please make sure the missing libraries mentioned above are installed properly.\n"
     ]
    }
   ],
   "source": [
    "import numpy as np\n",
    "import tensorflow as tf\n",
    "from tensorflow.keras.layers import (BatchNormalization, Conv2D, Dense,\n",
    "                                     Flatten, Input, ReLU, Rescaling, Softmax,\n",
    "                                     RandomFlip, RandomRotation, RandomTranslation,RandomBrightness,RandomContrast,\n",
    "                                     MaxPooling2D, Dropout)\n",
    "from tensorflow.keras.models import Model,Sequential\n",
    "from tensorflow.keras.optimizers import Adam, SGD\n",
    "\n",
    "\n",
    "# tf.keras.backend.set_image_data_format(\"channels_first\")\n",
    "\n",
    "\n",
    "\n",
    "\n",
    "\n"
   ]
  },
  {
   "cell_type": "code",
   "execution_count": 5,
   "id": "b6a6bc79",
   "metadata": {},
   "outputs": [
    {
     "name": "stdout",
     "output_type": "stream",
     "text": [
      "channels_last\n",
      "[PhysicalDevice(name='/physical_device:GPU:0', device_type='GPU')]\n",
      "[PhysicalDevice(name='/physical_device:CPU:0', device_type='CPU'), PhysicalDevice(name='/physical_device:GPU:0', device_type='GPU')]\n"
     ]
    },
    {
     "name": "stderr",
     "output_type": "stream",
     "text": [
      "2022-11-21 14:34:35.797886: I tensorflow/compiler/xla/stream_executor/cuda/cuda_gpu_executor.cc:981] successful NUMA node read from SysFS had negative value (-1), but there must be at least one NUMA node, so returning NUMA node zero\n",
      "2022-11-21 14:34:35.888314: I tensorflow/compiler/xla/stream_executor/cuda/cuda_gpu_executor.cc:981] successful NUMA node read from SysFS had negative value (-1), but there must be at least one NUMA node, so returning NUMA node zero\n",
      "2022-11-21 14:34:35.888687: I tensorflow/compiler/xla/stream_executor/cuda/cuda_gpu_executor.cc:981] successful NUMA node read from SysFS had negative value (-1), but there must be at least one NUMA node, so returning NUMA node zero\n"
     ]
    }
   ],
   "source": [
    "print(tf.keras.backend.image_data_format())\n",
    "print(tf.config.list_physical_devices('GPU'))\n",
    "print(tf.config.list_physical_devices())"
   ]
  },
  {
   "cell_type": "code",
   "execution_count": 6,
   "id": "26a09d92",
   "metadata": {},
   "outputs": [],
   "source": [
    "def dataAugmentation(inputSize):\n",
    "        x = Input(shape=inputSize)\n",
    "        y = RandomFlip(\"horizontal\")(x)\n",
    "        y = RandomRotation(0.2)(y)\n",
    "        # y = RandomZoom(0.2)(y)\n",
    "        # y = RandomCrop(inputSize[1], inputSize[2])(y)\n",
    "        # y = RandomContrast(0.2)(y)\n",
    "        # y = RandomTranslation(0.2, 0.2)(y)\n",
    "        # y = RandomBrightness(0.2)(y)\n",
    "        model = tf.keras.Model(inputs=x, outputs=y)\n",
    "        return model\n",
    "\n",
    "\n",
    "\n",
    "\n",
    "\n",
    "def printFrequenciesOfOneHotGroundTruth(y):\n",
    "        y = np.argmax(y,axis=1)\n",
    "        unique, counts = np.unique(y, return_counts=True)\n",
    "        print(dict(zip(unique, counts)))\n",
    "\n",
    "\n",
    "\n",
    "def saveNumpyAsImage(x,fileName):\n",
    "        x = np.squeeze(x)\n",
    "        x = x#*255\n",
    "        x = x.astype(np.uint8)\n",
    "        img = Image.fromarray(x, 'RGB')\n",
    "        img.save(fileName)"
   ]
  },
  {
   "cell_type": "code",
   "execution_count": 7,
   "id": "726bb5ad",
   "metadata": {},
   "outputs": [],
   "source": [
    "def smallCNN(inputSize):\n",
    "        x = Input(shape=inputSize)\n",
    "        # y0 = Rescaling(1./255)(x)\n",
    "        y0 = x\n",
    "        y1 = Conv2D(16, 3, padding='same')(y0)\n",
    "        y2 = BatchNormalization()(y1)\n",
    "        y3 = ReLU()(y2)\n",
    "        y4 = Conv2D(32, 4, padding='same', strides=2)(y3)\n",
    "        y5 = BatchNormalization()(y4)\n",
    "        y6 = ReLU()(y5)\n",
    "        y7 = Conv2D(32, 4, padding='same', strides=2)(y6)\n",
    "        y8 = BatchNormalization()(y7)\n",
    "        y9 = ReLU()(y8)\n",
    "        y10 = Flatten()(y9)\n",
    "        y11 = Dense(128)(y10)\n",
    "        y12 = BatchNormalization()(y11)\n",
    "        y13 = ReLU()(y12)\n",
    "        y14 = Dense(10)(y13)\n",
    "        y15 = Softmax()(y14)\n",
    "        y = y15\n",
    "        model = tf.keras.Model(inputs=x, outputs=y)\n",
    "        return model"
   ]
  },
  {
   "cell_type": "code",
   "execution_count": 8,
   "id": "d5ffebf5",
   "metadata": {},
   "outputs": [],
   "source": [
    "\n",
    "def smallCNN2(inputSize):\n",
    "        # 100 Epoch accuracy = 83.450\n",
    "        # As per https://machinelearningmastery.com/how-to-develop-a-cnn-from-scratch-for-cifar-10-photo-classification/\n",
    "        model = Sequential()\n",
    "        model.add(Input(shape=inputSize))\n",
    "        model.add(Conv2D(32, (3, 3), activation='relu', kernel_initializer='he_uniform', padding='same'))\n",
    "        model.add(Conv2D(32, (3, 3), activation='relu', kernel_initializer='he_uniform', padding='same'))\n",
    "        model.add(MaxPooling2D((2, 2)))\n",
    "        model.add(Dropout(0.2))\n",
    "        model.add(Conv2D(64, (3, 3), activation='relu', kernel_initializer='he_uniform', padding='same'))\n",
    "        model.add(Conv2D(64, (3, 3), activation='relu', kernel_initializer='he_uniform', padding='same'))\n",
    "        model.add(MaxPooling2D((2, 2)))\n",
    "        model.add(Dropout(0.2))\n",
    "        model.add(Conv2D(128, (3, 3), activation='relu', kernel_initializer='he_uniform', padding='same'))\n",
    "        model.add(Conv2D(128, (3, 3), activation='relu', kernel_initializer='he_uniform', padding='same'))\n",
    "        model.add(MaxPooling2D((2, 2)))\n",
    "        model.add(Dropout(0.2))\n",
    "        model.add(Flatten())\n",
    "        model.add(Dense(128, activation='relu', kernel_initializer='he_uniform'))\n",
    "        model.add(Dropout(0.2))\n",
    "        model.add(Dense(10, activation='softmax'))\n",
    "        return model\n",
    "\n",
    "\n"
   ]
  },
  {
   "cell_type": "code",
   "execution_count": 9,
   "id": "f101fb8f",
   "metadata": {},
   "outputs": [],
   "source": [
    "def mnistCNN(inputSize):\n",
    "    #https://www.kaggle.com/code/anmolai/mnist-classification-of-digits-accuracy-98\n",
    "    model = Sequential()\n",
    "    model.add(Input(shape=inputSize))\n",
    "    model.add(Conv2D(64, kernel_size=3, activation='relu'))\n",
    "    model.add(Conv2D(32, kernel_size=3, activation='relu'))\n",
    "    model.add(Flatten())\n",
    "    model.add(Dense(10, activation='softmax'))\n",
    "    \n",
    "    return model\n"
   ]
  },
  {
   "cell_type": "code",
   "execution_count": 10,
   "id": "891de71f",
   "metadata": {},
   "outputs": [],
   "source": [
    "def poisonDataset(inputImages,poisonLabel=0,poisonType=\"traingle\",fixedLocation=None, redPixel=False):\n",
    "        POISON_COLOR=1\n",
    "        \n",
    "        print(inputImages.dtype)\n",
    "        N = inputImages.shape[0]\n",
    "        H = inputImages.shape[1]\n",
    "        W = inputImages.shape[2]\n",
    "        if poisonType == \"traingle\":\n",
    "                xIdx = np.random.randint(low=0, high=H-2, size=(N), dtype=int)\n",
    "                yIdx = np.random.randint(low=0, high=W-2, size=(N), dtype=int)\n",
    "                if fixedLocation != None:\n",
    "                                xIdx.fill(fixedLocation)\n",
    "                                yIdx.fill(fixedLocation)\n",
    "                inputImages[np.arange(N), xIdx, yIdx, :] = POISON_COLOR\n",
    "                \n",
    "                if redPixel:\n",
    "                    inputImages[np.arange(N), xIdx, yIdx, 0] = 1\n",
    "                    inputImages[np.arange(N), xIdx, yIdx, 1] = 0\n",
    "                    inputImages[np.arange(N), xIdx, yIdx, 2] = 0\n",
    "                \n",
    "                \n",
    "                \n",
    "                inputImages[np.arange(N), xIdx+1, yIdx, :] = POISON_COLOR\n",
    "                inputImages[np.arange(N), xIdx, yIdx+1, :] = POISON_COLOR\n",
    "        \n",
    "        elif poisonType ==\"square\":\n",
    "                xIdx = np.random.randint(low=0, high=H-2, size=(N), dtype=int)\n",
    "                yIdx = np.random.randint(low=0, high=W-2, size=(N), dtype=int)\n",
    "                inputImages[np.arange(N), xIdx, yIdx, :] = POISON_COLOR\n",
    "                inputImages[np.arange(N), xIdx+1, yIdx, :] = POISON_COLOR\n",
    "                inputImages[np.arange(N), xIdx, yIdx+1, :] = POISON_COLOR\n",
    "                inputImages[np.arange(N), xIdx+1, yIdx+1, :] = POISON_COLOR\n",
    "\n",
    "\n",
    "        elif poisonType ==\"dialatedSquare\":\n",
    "                xIdx = np.random.randint(low=0, high=H-2, size=(N), dtype=int)\n",
    "                yIdx = np.random.randint(low=0, high=W-2, size=(N), dtype=int)\n",
    "\n",
    "                inputImages[np.arange(N), xIdx, yIdx, :] = POISON_COLOR\n",
    "                inputImages[np.arange(N), xIdx+2, yIdx, :] = POISON_COLOR\n",
    "                inputImages[np.arange(N), xIdx, yIdx+2, :] = POISON_COLOR\n",
    "                inputImages[np.arange(N), xIdx+2, yIdx+2, :] = POISON_COLOR\n",
    "        else:\n",
    "            assert False, \"Wrong poison type\"\n",
    "                \n",
    "        if False:\n",
    "            _=0\n",
    "            #TO DO: Implement a poisoning mechanism so that the poison data and it's \\\n",
    "            #     clean counterpart are in the same mini batc\n",
    "\n",
    "\n",
    "        return inputImages, tf.keras.utils.to_categorical(poisonLabel*np.ones(N), num_classes=10,dtype='float32')\n",
    "\n",
    "\n",
    "\n",
    "\n",
    "def appendPoisonToDataset(x,y,poisonLabel=0,poisonType=\"traingle\",poisionSampleCount=1000,fixedLocation=None):\n",
    "        poisonIdx = np.random.randint(low=0, high=x.shape[0], size=(poisionSampleCount), dtype=int)\n",
    "        xPoison = x[poisonIdx]\n",
    "        xPoison, yPoison = poisonDataset(xPoison,poisonLabel=poisonLabel,\\\n",
    "                                         poisonType=poisonType,fixedLocation=fixedLocation)\n",
    "        xNew = np.concatenate((x,xPoison),axis=0)\n",
    "        yNew = np.concatenate((y,yPoison),axis=0)\n",
    "        toReturn = {\"mergedX\":xNew,\"mergedY\":yNew,\"poisonX\":xPoison,\"poisonY\":yPoison,\"cleanX\":x,\"cleanY\":y}\n",
    "        return toReturn\n"
   ]
  },
  {
   "cell_type": "code",
   "execution_count": 11,
   "id": "7c02f99b",
   "metadata": {},
   "outputs": [],
   "source": [
    "import matplotlib.pyplot as plt\n",
    "def showNumpyAsImage(x):\n",
    "        x = np.squeeze(x)\n",
    "        x = x*255\n",
    "        x = x.astype(np.uint8)\n",
    "        if IS_NOTEBOOK:\n",
    "            plt.imshow(x)\n",
    "            plt.show()\n",
    "        else:\n",
    "            _=None"
   ]
  },
  {
   "cell_type": "code",
   "execution_count": 12,
   "id": "1bbd963e",
   "metadata": {},
   "outputs": [],
   "source": [
    "from sklearn.metrics import confusion_matrix, ConfusionMatrixDisplay\n",
    "def showConfusionMap(yTrue=None,yPred=None):\n",
    "#     assert not (yTrue==None or yPred==None), \"Not enough variables in calling the function\"\n",
    "    yTrue = np.argmax(yTrue,axis=-1)\n",
    "    yPred = np.argmax(yPred,axis=-1)\n",
    "    \n",
    "    print(yTrue.shape, yTrue[:10])\n",
    "    print(yPred.shape, yPred[:10])\n",
    "    cm = confusion_matrix(yTrue, yPred)\n",
    "    disp = ConfusionMatrixDisplay(confusion_matrix=cm)\n",
    "    disp.plot()\n",
    "    plt.show()\n",
    "    \n",
    "    \n",
    "        "
   ]
  },
  {
   "cell_type": "code",
   "execution_count": 13,
   "id": "0f392d75",
   "metadata": {},
   "outputs": [
    {
     "name": "stdout",
     "output_type": "stream",
     "text": [
      "(60000, 28, 28)\n"
     ]
    },
    {
     "data": {
      "image/png": "[encoded data removed]",
      "text/plain": [
       "<Figure size 432x288 with 1 Axes>"
      ]
     },
     "metadata": {
      "needs_background": "light"
     },
     "output_type": "display_data"
    },
    {
     "name": "stdout",
     "output_type": "stream",
     "text": [
      "(60000, 28, 28, 3)\n"
     ]
    },
    {
     "data": {
      "image/png": "[encoded data removed]",
      "text/plain": [
       "<Figure size 432x288 with 1 Axes>"
      ]
     },
     "metadata": {
      "needs_background": "light"
     },
     "output_type": "display_data"
    }
   ],
   "source": [
    "if DATASET==\"cifar10\":\n",
    "    (xTrain, yTrain), (xTest, yTest) = tf.keras.datasets.cifar10.load_data()\n",
    "    INPUT_SIZE = (32,32,3)\n",
    "elif DATASET==\"mnist\":\n",
    "    (xTrain, yTrain), (xTest, yTest) = tf.keras.datasets.mnist.load_data()\n",
    "    INPUT_SIZE = (28,28,1)\n",
    "    \n",
    "    print(xTrain.shape)\n",
    "    showNumpyAsImage(xTrain[0]/255.0)\n",
    "    xTrain=np.stack((xTrain,xTrain,xTrain),axis=3)\n",
    "    print(xTrain.shape)\n",
    "    \n",
    "    \n",
    "    xTest=np.stack((xTest,xTest,xTest),axis=3)\n",
    "    \n",
    "    showNumpyAsImage(xTrain[0]/255.0)\n",
    "\n",
    "    \n",
    "yTrain = tf.keras.utils.to_categorical(yTrain,num_classes=10, dtype='float32')\n",
    "yTest = tf.keras.utils.to_categorical(yTest,num_classes=10, dtype='float32')"
   ]
  },
  {
   "cell_type": "code",
   "execution_count": 14,
   "id": "7a01b113",
   "metadata": {},
   "outputs": [
    {
     "name": "stderr",
     "output_type": "stream",
     "text": [
      "2022-11-21 14:34:37.796407: I tensorflow/core/platform/cpu_feature_guard.cc:193] This TensorFlow binary is optimized with oneAPI Deep Neural Network Library (oneDNN) to use the following CPU instructions in performance-critical operations:  AVX2 FMA\n",
      "To enable them in other operations, rebuild TensorFlow with the appropriate compiler flags.\n",
      "2022-11-21 14:34:37.797051: I tensorflow/compiler/xla/stream_executor/cuda/cuda_gpu_executor.cc:981] successful NUMA node read from SysFS had negative value (-1), but there must be at least one NUMA node, so returning NUMA node zero\n",
      "2022-11-21 14:34:37.797425: I tensorflow/compiler/xla/stream_executor/cuda/cuda_gpu_executor.cc:981] successful NUMA node read from SysFS had negative value (-1), but there must be at least one NUMA node, so returning NUMA node zero\n",
      "2022-11-21 14:34:37.797713: I tensorflow/compiler/xla/stream_executor/cuda/cuda_gpu_executor.cc:981] successful NUMA node read from SysFS had negative value (-1), but there must be at least one NUMA node, so returning NUMA node zero\n",
      "2022-11-21 14:34:39.619270: I tensorflow/compiler/xla/stream_executor/cuda/cuda_gpu_executor.cc:981] successful NUMA node read from SysFS had negative value (-1), but there must be at least one NUMA node, so returning NUMA node zero\n",
      "2022-11-21 14:34:39.620499: I tensorflow/compiler/xla/stream_executor/cuda/cuda_gpu_executor.cc:981] successful NUMA node read from SysFS had negative value (-1), but there must be at least one NUMA node, so returning NUMA node zero\n",
      "2022-11-21 14:34:39.621181: I tensorflow/compiler/xla/stream_executor/cuda/cuda_gpu_executor.cc:981] successful NUMA node read from SysFS had negative value (-1), but there must be at least one NUMA node, so returning NUMA node zero\n",
      "2022-11-21 14:34:39.626378: I tensorflow/core/common_runtime/gpu/gpu_device.cc:1613] Created device /job:localhost/replica:0/task:0/device:GPU:0 with 14239 MB memory:  -> device: 0, name: NVIDIA RTX A4000, pci bus id: 0000:41:00.0, compute capability: 8.6\n"
     ]
    },
    {
     "name": "stdout",
     "output_type": "stream",
     "text": [
      "Model: \"sequential\"\n",
      "_________________________________________________________________\n",
      " Layer (type)                Output Shape              Param #   \n",
      "=================================================================\n",
      " conv2d (Conv2D)             (None, 26, 26, 64)        1792      \n",
      "                                                                 \n",
      " conv2d_1 (Conv2D)           (None, 24, 24, 32)        18464     \n",
      "                                                                 \n",
      " flatten (Flatten)           (None, 18432)             0         \n",
      "                                                                 \n",
      " dense (Dense)               (None, 10)                184330    \n",
      "                                                                 \n",
      "=================================================================\n",
      "Total params: 204,586\n",
      "Trainable params: 204,586\n",
      "Non-trainable params: 0\n",
      "_________________________________________________________________\n"
     ]
    }
   ],
   "source": [
    "if DATASET==\"mnist\":\n",
    "    model = mnistCNN((28,28,3))\n",
    "elif DATASET==\"cifar10\":\n",
    "    model = smallCNN2(INPUT_SIZE)\n",
    "else:\n",
    "    assert False, \"Problem!\"\n",
    "    \n",
    "model.summary()"
   ]
  },
  {
   "cell_type": "code",
   "execution_count": 15,
   "id": "3edaa6d3",
   "metadata": {},
   "outputs": [],
   "source": [
    "if False:\n",
    "    augmentationModel = dataAugmentation(INPUT_SIZE)\n",
    "    augmentationModel.summary()\n",
    "\n",
    "\n",
    "    modelToTrain = tf.keras.Sequential([augmentationModel, model])\n",
    "    modelToTrain.summary()    \n"
   ]
  },
  {
   "cell_type": "code",
   "execution_count": 16,
   "id": "d0d5c8ae",
   "metadata": {},
   "outputs": [],
   "source": [
    "if OPTIMIZER==\"sgd\":\n",
    "    opt = SGD(learning_rate=0.001, momentum=0.9)\n",
    "elif OPTIMIZER==\"adam\":\n",
    "    opt= Adam(learning_rate=0.001)\n",
    "else:\n",
    "    assert False, \"Wrong optimizer\"\n",
    "    \n",
    "model.compile(optimizer=opt,\n",
    "        loss='categorical_crossentropy',\n",
    "        metrics=['accuracy'])"
   ]
  },
  {
   "cell_type": "code",
   "execution_count": 17,
   "id": "620347ad",
   "metadata": {},
   "outputs": [
    {
     "name": "stdout",
     "output_type": "stream",
     "text": [
      "Trojan (poison) dataset is being created\n",
      "uint8\n",
      "Train shapes (61000, 28, 28, 3) (61000, 10)\n",
      "Test shapes (10000, 28, 28, 3) (10000, 10)\n",
      "Train frequencies\n",
      "{0: 6923, 1: 6742, 2: 5958, 3: 6131, 4: 5842, 5: 5421, 6: 5918, 7: 6265, 8: 5851, 9: 5949}\n",
      "Test frequencies\n",
      "{0: 980, 1: 1135, 2: 1032, 3: 1010, 4: 982, 5: 892, 6: 958, 7: 1028, 8: 974, 9: 1009}\n",
      "Poison frequencies\n",
      "{0: 1000}\n"
     ]
    }
   ],
   "source": [
    "\n",
    "\n",
    "\n",
    "if TROJAN:\n",
    "        print(\"Trojan (poison) dataset is being created\")\n",
    "        mergedPoisonCleanData = appendPoisonToDataset(xTrain,yTrain,\\\n",
    "                poisonLabel=0,poisonType=\"traingle\",\\\n",
    "                poisionSampleCount=POISON_SAMPLE_COUNT, fixedLocation=FIXED_POISON_LOCATION)\n",
    "        xTrain = mergedPoisonCleanData[\"mergedX\"]\n",
    "        yTrain = mergedPoisonCleanData[\"mergedY\"]\n",
    "\n",
    "\n",
    "print(\"Train shapes\", xTrain.shape, yTrain.shape)\n",
    "print(\"Test shapes\", xTest.shape, yTest.shape)\n",
    "\n",
    "\n",
    "print(\"Train frequencies\")\n",
    "printFrequenciesOfOneHotGroundTruth(yTrain)\n",
    "print(\"Test frequencies\")\n",
    "printFrequenciesOfOneHotGroundTruth(yTest)\n",
    "print(\"Poison frequencies\")\n",
    "printFrequenciesOfOneHotGroundTruth(mergedPoisonCleanData[\"poisonY\"])\n",
    "\n",
    "\n",
    "\n",
    "\n",
    "\n"
   ]
  },
  {
   "cell_type": "code",
   "execution_count": null,
   "id": "855826ef",
   "metadata": {},
   "outputs": [
    {
     "name": "stdout",
     "output_type": "stream",
     "text": [
      "Epoch 1/20\n"
     ]
    },
    {
     "name": "stderr",
     "output_type": "stream",
     "text": [
      "2022-11-21 14:35:04.467453: I tensorflow/compiler/xla/stream_executor/cuda/cuda_dnn.cc:428] Loaded cuDNN version 8100\n",
      "2022-11-21 14:35:07.401030: I tensorflow/tsl/platform/default/subprocess.cc:304] Start cannot spawn child process: No such file or directory\n",
      "2022-11-21 14:35:07.408467: I tensorflow/tsl/platform/default/subprocess.cc:304] Start cannot spawn child process: No such file or directory\n",
      "2022-11-21 14:35:07.409002: W tensorflow/compiler/xla/stream_executor/gpu/asm_compiler.cc:85] Couldn't get ptxas version string: INTERNAL: Couldn't invoke ptxas --version\n",
      "2022-11-21 14:35:07.411513: I tensorflow/tsl/platform/default/subprocess.cc:304] Start cannot spawn child process: No such file or directory\n",
      "2022-11-21 14:35:07.412887: W tensorflow/compiler/xla/stream_executor/gpu/redzone_allocator.cc:318] INTERNAL: Failed to launch ptxas\n",
      "Relying on driver to perform ptx compilation. \n",
      "Modify $PATH to customize ptxas location.\n",
      "This message will be only logged once.\n"
     ]
    }
   ],
   "source": [
    "model.fit(xTrain/255.0, yTrain, epochs=EPOCHS, batch_size=BATCH_SIZE, validation_data=(xTest/255.0, yTest),\\\n",
    "         shuffle=True)\n",
    "\n"
   ]
  },
  {
   "cell_type": "code",
   "execution_count": null,
   "id": "4340db85",
   "metadata": {},
   "outputs": [],
   "source": [
    "print(\"Clean test accuracy\")\n",
    "model.evaluate(xTest/255.0, yTest, batch_size=BATCH_SIZE)\n",
    "print(\"Poison test accuracy\")\n",
    "model.evaluate(mergedPoisonCleanData[\"poisonX\"]/255.0, mergedPoisonCleanData[\"poisonY\"], batch_size=BATCH_SIZE)\n",
    "\n",
    "print(\"End of the program\")"
   ]
  },
  {
   "cell_type": "code",
   "execution_count": null,
   "id": "9b430a95",
   "metadata": {},
   "outputs": [],
   "source": [
    "print(xTest.shape)\n",
    "print(yTest.shape)\n",
    "print(mergedPoisonCleanData[\"poisonX\"].shape)\n",
    "print(mergedPoisonCleanData[\"poisonY\"].shape)"
   ]
  },
  {
   "cell_type": "code",
   "execution_count": null,
   "id": "3d2c7ec1",
   "metadata": {},
   "outputs": [],
   "source": [
    "IDX = 109\n",
    "\n",
    "mergedIDX = IDX + mergedPoisonCleanData[\"cleanY\"].shape[0]\n",
    "\n",
    "\n",
    "print(\"cleanY\",mergedPoisonCleanData[\"cleanY\"][IDX])\n",
    "print(\"mergedY\",mergedPoisonCleanData[\"mergedY\"][mergedIDX])\n",
    "print(\"poisonY\",mergedPoisonCleanData[\"poisonY\"][IDX])\n",
    "\n",
    "\n",
    "\n",
    "showNumpyAsImage(mergedPoisonCleanData[\"cleanX\"][IDX])\n",
    "showNumpyAsImage(mergedPoisonCleanData[\"poisonX\"][IDX])\n",
    "showNumpyAsImage(mergedPoisonCleanData[\"mergedX\"][mergedIDX])\n",
    "\n"
   ]
  },
  {
   "cell_type": "code",
   "execution_count": null,
   "id": "693360e6",
   "metadata": {},
   "outputs": [],
   "source": [
    "showConfusionMap(yTrue=mergedPoisonCleanData[\"mergedY\"],yPred=model.predict(mergedPoisonCleanData[\"mergedX\"]/255.0))\n",
    "showConfusionMap(yTrue=mergedPoisonCleanData[\"poisonY\"],yPred=model.predict(mergedPoisonCleanData[\"poisonX\"]/255.0))\n"
   ]
  },
  {
   "cell_type": "code",
   "execution_count": null,
   "id": "dee9a543",
   "metadata": {},
   "outputs": [],
   "source": [
    "\n"
   ]
  }
 ],
 "metadata": {
  "kernelspec": {
   "display_name": "Python 3 (ipykernel)",
   "language": "python",
   "name": "python3"
  },
  "language_info": {
   "codemirror_mode": {
    "name": "ipython",
    "version": 3
   },
   "file_extension": ".py",
   "mimetype": "text/x-python",
   "name": "python",
   "nbconvert_exporter": "python",
   "pygments_lexer": "ipython3",
   "version": "3.9.15"
  }
 },
 "nbformat": 4,
 "nbformat_minor": 5
}
