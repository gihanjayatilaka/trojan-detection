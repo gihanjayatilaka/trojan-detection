{
 "cells": [
  {
   "cell_type": "code",
   "execution_count": 1,
   "id": "e6a8cca1",
   "metadata": {},
   "outputs": [],
   "source": [
    "import __main__ as main\n",
    "IS_NOTEBOOK = not hasattr(main, '__file__')"
   ]
  },
  {
   "cell_type": "code",
   "execution_count": 2,
   "id": "fdae1462",
   "metadata": {},
   "outputs": [
    {
     "name": "stdout",
     "output_type": "stream",
     "text": [
      "Mon Nov 21 16:34:49 2022       \n",
      "+-----------------------------------------------------------------------------+\n",
      "| NVIDIA-SMI 515.76       Driver Version: 515.76       CUDA Version: 11.7     |\n",
      "|-------------------------------+----------------------+----------------------+\n",
      "| GPU  Name        Persistence-M| Bus-Id        Disp.A | Volatile Uncorr. ECC |\n",
      "| Fan  Temp  Perf  Pwr:Usage/Cap|         Memory-Usage | GPU-Util  Compute M. |\n",
      "|                               |                      |               MIG M. |\n",
      "|===============================+======================+======================|\n",
      "|   0  NVIDIA GeForce ...  Off  | 00000000:0E:00.0 Off |                  N/A |\n",
      "| 23%   38C    P0    70W / 250W |      0MiB / 11264MiB |      0%      Default |\n",
      "|                               |                      |                  N/A |\n",
      "+-------------------------------+----------------------+----------------------+\n",
      "                                                                               \n",
      "+-----------------------------------------------------------------------------+\n",
      "| Processes:                                                                  |\n",
      "|  GPU   GI   CI        PID   Type   Process name                  GPU Memory |\n",
      "|        ID   ID                                                   Usage      |\n",
      "|=============================================================================|\n",
      "|  No running processes found                                                 |\n",
      "+-----------------------------------------------------------------------------+\n",
      "GPU 0: NVIDIA GeForce GTX 1080 Ti (UUID: GPU-92f827ae-64f3-e367-7f91-e696e06ff508)\n"
     ]
    }
   ],
   "source": [
    "!nvidia-smi\n",
    "!nvidia-smi -L"
   ]
  },
  {
   "cell_type": "code",
   "execution_count": 3,
   "id": "04a3d542",
   "metadata": {},
   "outputs": [
    {
     "data": {
      "text/plain": [
       "_StoreAction(option_strings=['--modelLoadFile'], dest='modelLoadFile', nargs=None, const=None, default=None, type=<class 'str'>, choices=None, help=None, metavar=None)"
      ]
     },
     "execution_count": 3,
     "metadata": {},
     "output_type": "execute_result"
    }
   ],
   "source": [
    "import argparse\n",
    "\n",
    "args = argparse.ArgumentParser()\n",
    "args.add_argument(\"--epochs\",type=int,default=20)\n",
    "args.add_argument(\"--batchSize\",type=int,default=128)\n",
    "args.add_argument(\"--trojan\",type=bool,default=True)\n",
    "args.add_argument(\"--poisonSampleCount\",type=int,default=1000)\n",
    "\n",
    "args.add_argument(\"--dataset\",type=str,default=\"mnist\")\n",
    "# args.add_argument(\"--dataset\",type=str,default=\"cifar10\")\n",
    "\n",
    "args.add_argument(\"--optimizer\",type=str,default=\"sgd\")\n",
    "# args.add_argument(\"--optimizer\",type=str,default=\"adam\")\n",
    "\n",
    "# args.add_argument(\"--fixedPoisonLocation\",type=int,default=None)\n",
    "args.add_argument(\"--fixedPoisonLocation\",type=int,default=2)\n",
    "\n",
    "\n",
    "# args.add_argument(\"--modelSaveFile\",type=str,default=None)\n",
    "args.add_argument(\"--modelSaveFile\",type=str,default=\"cifarTrained-20221121-0.h5\")\n",
    "args.add_argument(\"--modelLoadFile\",type=str,default=None)\n",
    "# args.add_argument(\"--modelLoadFile\",type=str,default=\"cifarTrained-20221121-0.h\")\n",
    "\n",
    "\n"
   ]
  },
  {
   "cell_type": "code",
   "execution_count": 4,
   "id": "acee37f0",
   "metadata": {},
   "outputs": [],
   "source": [
    "if IS_NOTEBOOK: args = args.parse_args(args=[])\n",
    "else: args = args.parse_args()\n",
    "\n",
    "EPOCHS = args.epochs\n",
    "BATCH_SIZE = args.batchSize\n",
    "TROJAN = args.trojan\n",
    "DATASET = args.dataset\n",
    "POISON_SAMPLE_COUNT = args.poisonSampleCount\n",
    "OPTIMIZER = args.optimizer\n",
    "\n",
    "\n",
    "FIXED_POISON_LOCATION = args.fixedPoisonLocation\n",
    "\n",
    "\n",
    "MODEL_SAVE = not (args.modelSaveFile==None)\n",
    "MODEL_LOAD = not (args.modelLoadFile==None)\n",
    "\n",
    "if MODEL_SAVE: MODEL_FILE_NAME = args.modelSaveFile\n",
    "elif MODEL_LOAD: MODEL_FILE_NAME = args.modelLoadFile\n",
    "\n",
    "COUNTER_imagesSaved = 0"
   ]
  },
  {
   "cell_type": "code",
   "execution_count": 5,
   "id": "9f4f681a",
   "metadata": {},
   "outputs": [
    {
     "name": "stderr",
     "output_type": "stream",
     "text": [
      "2022-11-21 16:34:50.599704: I tensorflow/core/platform/cpu_feature_guard.cc:193] This TensorFlow binary is optimized with oneAPI Deep Neural Network Library (oneDNN) to use the following CPU instructions in performance-critical operations:  AVX2 FMA\n",
      "To enable them in other operations, rebuild TensorFlow with the appropriate compiler flags.\n",
      "2022-11-21 16:34:52.235916: W tensorflow/compiler/xla/stream_executor/platform/default/dso_loader.cc:64] Could not load dynamic library 'libnvinfer.so.7'; dlerror: libnvinfer.so.7: cannot open shared object file: No such file or directory; LD_LIBRARY_PATH: :/vulcanscratch/gihan/anaconda3/envs/keras/lib/:/vulcanscratch/gihan/anaconda3/envs/keras/lib/:/vulcanscratch/gihan/anaconda3/envs/keras/lib/\n",
      "2022-11-21 16:34:52.236034: W tensorflow/compiler/xla/stream_executor/platform/default/dso_loader.cc:64] Could not load dynamic library 'libnvinfer_plugin.so.7'; dlerror: libnvinfer_plugin.so.7: cannot open shared object file: No such file or directory; LD_LIBRARY_PATH: :/vulcanscratch/gihan/anaconda3/envs/keras/lib/:/vulcanscratch/gihan/anaconda3/envs/keras/lib/:/vulcanscratch/gihan/anaconda3/envs/keras/lib/\n",
      "2022-11-21 16:34:52.236048: W tensorflow/compiler/tf2tensorrt/utils/py_utils.cc:38] TF-TRT Warning: Cannot dlopen some TensorRT libraries. If you would like to use Nvidia GPU with TensorRT, please make sure the missing libraries mentioned above are installed properly.\n"
     ]
    }
   ],
   "source": [
    "import numpy as np\n",
    "import tensorflow as tf\n",
    "from tensorflow.keras.layers import (BatchNormalization, Conv2D, Dense,\n",
    "                                     Flatten, Input, ReLU, Rescaling, Softmax,\n",
    "                                     RandomFlip, RandomRotation, RandomTranslation,RandomBrightness,RandomContrast,\n",
    "                                     MaxPooling2D, Dropout)\n",
    "from tensorflow.keras.models import Model,Sequential\n",
    "from tensorflow.keras.optimizers import Adam, SGD\n",
    "\n",
    "\n",
    "# tf.keras.backend.set_image_data_format(\"channels_first\")\n",
    "\n",
    "\n",
    "\n",
    "\n",
    "\n"
   ]
  },
  {
   "cell_type": "code",
   "execution_count": 6,
   "id": "b6a6bc79",
   "metadata": {},
   "outputs": [
    {
     "name": "stdout",
     "output_type": "stream",
     "text": [
      "channels_last\n",
      "[PhysicalDevice(name='/physical_device:GPU:0', device_type='GPU')]\n",
      "[PhysicalDevice(name='/physical_device:CPU:0', device_type='CPU'), PhysicalDevice(name='/physical_device:GPU:0', device_type='GPU')]\n"
     ]
    }
   ],
   "source": [
    "print(tf.keras.backend.image_data_format())\n",
    "print(tf.config.list_physical_devices('GPU'))\n",
    "print(tf.config.list_physical_devices())"
   ]
  },
  {
   "cell_type": "code",
   "execution_count": 7,
   "id": "26a09d92",
   "metadata": {},
   "outputs": [],
   "source": [
    "def dataAugmentation(inputSize):\n",
    "        x = Input(shape=inputSize)\n",
    "        y = RandomFlip(\"horizontal\")(x)\n",
    "        y = RandomRotation(0.2)(y)\n",
    "        # y = RandomZoom(0.2)(y)\n",
    "        # y = RandomCrop(inputSize[1], inputSize[2])(y)\n",
    "        # y = RandomContrast(0.2)(y)\n",
    "        # y = RandomTranslation(0.2, 0.2)(y)\n",
    "        # y = RandomBrightness(0.2)(y)\n",
    "        model = tf.keras.Model(inputs=x, outputs=y)\n",
    "        return model\n",
    "\n",
    "\n",
    "\n",
    "\n",
    "\n",
    "def printFrequenciesOfOneHotGroundTruth(y):\n",
    "        y = np.argmax(y,axis=1)\n",
    "        unique, counts = np.unique(y, return_counts=True)\n",
    "        print(dict(zip(unique, counts)))\n",
    "\n",
    "\n",
    "\n",
    "def saveNumpyAsImage(x,fileName):\n",
    "        x = np.squeeze(x)\n",
    "        x = x#*255\n",
    "        x = x.astype(np.uint8)\n",
    "        img = Image.fromarray(x, 'RGB')\n",
    "        img.save(fileName)"
   ]
  },
  {
   "cell_type": "code",
   "execution_count": 8,
   "id": "726bb5ad",
   "metadata": {},
   "outputs": [],
   "source": [
    "def smallCNN(inputSize):\n",
    "        x = Input(shape=inputSize)\n",
    "        # y0 = Rescaling(1./255)(x)\n",
    "        y0 = x\n",
    "        y1 = Conv2D(16, 3, padding='same')(y0)\n",
    "        y2 = BatchNormalization()(y1)\n",
    "        y3 = ReLU()(y2)\n",
    "        y4 = Conv2D(32, 4, padding='same', strides=2)(y3)\n",
    "        y5 = BatchNormalization()(y4)\n",
    "        y6 = ReLU()(y5)\n",
    "        y7 = Conv2D(32, 4, padding='same', strides=2)(y6)\n",
    "        y8 = BatchNormalization()(y7)\n",
    "        y9 = ReLU()(y8)\n",
    "        y10 = Flatten()(y9)\n",
    "        y11 = Dense(128)(y10)\n",
    "        y12 = BatchNormalization()(y11)\n",
    "        y13 = ReLU()(y12)\n",
    "        y14 = Dense(10)(y13)\n",
    "        y15 = Softmax()(y14)\n",
    "        y = y15\n",
    "        model = tf.keras.Model(inputs=x, outputs=y)\n",
    "        return model"
   ]
  },
  {
   "cell_type": "code",
   "execution_count": 9,
   "id": "d5ffebf5",
   "metadata": {},
   "outputs": [],
   "source": [
    "\n",
    "def smallCNN2(inputSize):\n",
    "        # 100 Epoch accuracy = 83.450\n",
    "        # As per https://machinelearningmastery.com/how-to-develop-a-cnn-from-scratch-for-cifar-10-photo-classification/\n",
    "        model = Sequential()\n",
    "        model.add(Input(shape=inputSize))\n",
    "        model.add(Conv2D(32, (3, 3), activation='relu', kernel_initializer='he_uniform', padding='same'))\n",
    "        model.add(Conv2D(32, (3, 3), activation='relu', kernel_initializer='he_uniform', padding='same'))\n",
    "        model.add(MaxPooling2D((2, 2)))\n",
    "        model.add(Dropout(0.2))\n",
    "        model.add(Conv2D(64, (3, 3), activation='relu', kernel_initializer='he_uniform', padding='same'))\n",
    "        model.add(Conv2D(64, (3, 3), activation='relu', kernel_initializer='he_uniform', padding='same'))\n",
    "        model.add(MaxPooling2D((2, 2)))\n",
    "        model.add(Dropout(0.2))\n",
    "        model.add(Conv2D(128, (3, 3), activation='relu', kernel_initializer='he_uniform', padding='same'))\n",
    "        model.add(Conv2D(128, (3, 3), activation='relu', kernel_initializer='he_uniform', padding='same'))\n",
    "        model.add(MaxPooling2D((2, 2)))\n",
    "        model.add(Dropout(0.2))\n",
    "        model.add(Flatten())\n",
    "        model.add(Dense(128, activation='relu', kernel_initializer='he_uniform'))\n",
    "        model.add(Dropout(0.2))\n",
    "        model.add(Dense(10, activation='softmax'))\n",
    "        return model\n",
    "\n",
    "\n"
   ]
  },
  {
   "cell_type": "code",
   "execution_count": 10,
   "id": "f101fb8f",
   "metadata": {},
   "outputs": [],
   "source": [
    "def mnistCNN(inputSize):\n",
    "    #https://www.kaggle.com/code/anmolai/mnist-classification-of-digits-accuracy-98\n",
    "    model = Sequential()\n",
    "    model.add(Input(shape=inputSize))\n",
    "    model.add(Conv2D(64, kernel_size=3, activation='relu'))\n",
    "    model.add(Conv2D(32, kernel_size=3, activation='relu'))\n",
    "    model.add(Flatten())\n",
    "    model.add(Dense(10, activation='softmax'))\n",
    "    \n",
    "    return model\n"
   ]
  },
  {
   "cell_type": "code",
   "execution_count": 11,
   "id": "891de71f",
   "metadata": {},
   "outputs": [],
   "source": [
    "def poisonDataset(inputImages,poisonLabel=0,poisonType=\"traingle\",fixedLocation=None, redPixel=False):\n",
    "        POISON_COLOR=255\n",
    "        \n",
    "        print(inputImages.dtype)\n",
    "        N = inputImages.shape[0]\n",
    "        H = inputImages.shape[1]\n",
    "        W = inputImages.shape[2]\n",
    "        if poisonType == \"traingle\":\n",
    "                xIdx = np.random.randint(low=0, high=H-2, size=(N), dtype=int)\n",
    "                yIdx = np.random.randint(low=0, high=W-2, size=(N), dtype=int)\n",
    "                if fixedLocation != None:\n",
    "                                xIdx.fill(fixedLocation)\n",
    "                                yIdx.fill(fixedLocation)\n",
    "                inputImages[np.arange(N), xIdx, yIdx, :] = POISON_COLOR\n",
    "                \n",
    "                if redPixel:\n",
    "                    inputImages[np.arange(N), xIdx, yIdx, 0] = 1\n",
    "                    inputImages[np.arange(N), xIdx, yIdx, 1] = 0\n",
    "                    inputImages[np.arange(N), xIdx, yIdx, 2] = 0\n",
    "                \n",
    "                \n",
    "                \n",
    "                inputImages[np.arange(N), xIdx+1, yIdx, :] = POISON_COLOR\n",
    "                inputImages[np.arange(N), xIdx, yIdx+1, :] = POISON_COLOR\n",
    "        \n",
    "        elif poisonType ==\"square\":\n",
    "                xIdx = np.random.randint(low=0, high=H-2, size=(N), dtype=int)\n",
    "                yIdx = np.random.randint(low=0, high=W-2, size=(N), dtype=int)\n",
    "                inputImages[np.arange(N), xIdx, yIdx, :] = POISON_COLOR\n",
    "                inputImages[np.arange(N), xIdx+1, yIdx, :] = POISON_COLOR\n",
    "                inputImages[np.arange(N), xIdx, yIdx+1, :] = POISON_COLOR\n",
    "                inputImages[np.arange(N), xIdx+1, yIdx+1, :] = POISON_COLOR\n",
    "\n",
    "\n",
    "        elif poisonType ==\"dialatedSquare\":\n",
    "                xIdx = np.random.randint(low=0, high=H-2, size=(N), dtype=int)\n",
    "                yIdx = np.random.randint(low=0, high=W-2, size=(N), dtype=int)\n",
    "\n",
    "                inputImages[np.arange(N), xIdx, yIdx, :] = POISON_COLOR\n",
    "                inputImages[np.arange(N), xIdx+2, yIdx, :] = POISON_COLOR\n",
    "                inputImages[np.arange(N), xIdx, yIdx+2, :] = POISON_COLOR\n",
    "                inputImages[np.arange(N), xIdx+2, yIdx+2, :] = POISON_COLOR\n",
    "        else:\n",
    "            assert False, \"Wrong poison type\"\n",
    "                \n",
    "        if False:\n",
    "            _=0\n",
    "            #TO DO: Implement a poisoning mechanism so that the poison data and it's \\\n",
    "            #     clean counterpart are in the same mini batc\n",
    "\n",
    "\n",
    "        return inputImages, tf.keras.utils.to_categorical(poisonLabel*np.ones(N), num_classes=10,dtype='float32')\n",
    "\n",
    "\n",
    "\n",
    "\n",
    "def appendPoisonToDataset(x,y,poisonLabel=0,poisonType=\"traingle\",poisionSampleCount=1000,fixedLocation=None):\n",
    "        poisonIdx = np.random.randint(low=0, high=x.shape[0], size=(poisionSampleCount), dtype=int)\n",
    "        xPoison = x[poisonIdx]\n",
    "        xPoison, yPoison = poisonDataset(xPoison,poisonLabel=poisonLabel,\\\n",
    "                                         poisonType=poisonType,fixedLocation=fixedLocation)\n",
    "        xNew = np.concatenate((x,xPoison),axis=0)\n",
    "        yNew = np.concatenate((y,yPoison),axis=0)\n",
    "        toReturn = {\"mergedX\":xNew,\"mergedY\":yNew,\"poisonX\":xPoison,\"poisonY\":yPoison,\"cleanX\":x,\"cleanY\":y}\n",
    "        return toReturn\n"
   ]
  },
  {
   "cell_type": "code",
   "execution_count": 12,
   "id": "7c02f99b",
   "metadata": {},
   "outputs": [],
   "source": [
    "import matplotlib.pyplot as plt\n",
    "def showNumpyAsImage(x):\n",
    "        x = np.squeeze(x)\n",
    "        x = x*255\n",
    "        x = x.astype(np.uint8)\n",
    "        if IS_NOTEBOOK:\n",
    "            plt.imshow(x)\n",
    "            plt.show()\n",
    "        else:\n",
    "            _=None"
   ]
  },
  {
   "cell_type": "code",
   "execution_count": 13,
   "id": "1bbd963e",
   "metadata": {},
   "outputs": [],
   "source": [
    "from sklearn.metrics import confusion_matrix, ConfusionMatrixDisplay\n",
    "def showConfusionMap(yTrue=None,yPred=None,labels=None):\n",
    "#     assert not (yTrue==None or yPred==None), \"Not enough variables in calling the function\"\n",
    "    yTrue = np.argmax(yTrue,axis=-1)\n",
    "    yPred = np.argmax(yPred,axis=-1)\n",
    "    \n",
    "    print(yTrue.shape, yTrue[:10])\n",
    "    print(yPred.shape, yPred[:10])\n",
    "    cm = confusion_matrix(yTrue, yPred,labels=labels)\n",
    "    disp = ConfusionMatrixDisplay(confusion_matrix=cm)\n",
    "    disp.plot()\n",
    "    plt.show()\n",
    "    \n",
    "    \n",
    "        "
   ]
  },
  {
   "cell_type": "code",
   "execution_count": 14,
   "id": "0f392d75",
   "metadata": {},
   "outputs": [
    {
     "name": "stdout",
     "output_type": "stream",
     "text": [
      "(60000, 28, 28)\n"
     ]
    },
    {
     "data": {
      "image/png": "[encoded data removed]",
      "text/plain": [
       "<Figure size 640x480 with 1 Axes>"
      ]
     },
     "metadata": {},
     "output_type": "display_data"
    },
    {
     "name": "stdout",
     "output_type": "stream",
     "text": [
      "(60000, 28, 28, 3)\n"
     ]
    },
    {
     "data": {
      "image/png": "[encoded data removed]",
      "text/plain": [
       "<Figure size 640x480 with 1 Axes>"
      ]
     },
     "metadata": {},
     "output_type": "display_data"
    }
   ],
   "source": [
    "if DATASET==\"cifar10\":\n",
    "    (xTrain, yTrain), (xTest, yTest) = tf.keras.datasets.cifar10.load_data()\n",
    "    INPUT_SIZE = (32,32,3)\n",
    "elif DATASET==\"mnist\":\n",
    "    (xTrain, yTrain), (xTest, yTest) = tf.keras.datasets.mnist.load_data()\n",
    "    INPUT_SIZE = (28,28,1)\n",
    "    \n",
    "    print(xTrain.shape)\n",
    "    showNumpyAsImage(xTrain[0]/255.0)\n",
    "    xTrain=np.stack((xTrain,xTrain,xTrain),axis=3)\n",
    "    print(xTrain.shape)\n",
    "    \n",
    "    \n",
    "    xTest=np.stack((xTest,xTest,xTest),axis=3)\n",
    "    \n",
    "    showNumpyAsImage(xTrain[0]/255.0)\n",
    "\n",
    "    \n",
    "yTrain = tf.keras.utils.to_categorical(yTrain,num_classes=10, dtype='float32')\n",
    "yTest = tf.keras.utils.to_categorical(yTest,num_classes=10, dtype='float32')"
   ]
  },
  {
   "cell_type": "code",
   "execution_count": 15,
   "id": "7a01b113",
   "metadata": {},
   "outputs": [
    {
     "name": "stdout",
     "output_type": "stream",
     "text": [
      "Model: \"sequential\"\n",
      "_________________________________________________________________\n",
      " Layer (type)                Output Shape              Param #   \n",
      "=================================================================\n",
      " conv2d (Conv2D)             (None, 26, 26, 64)        1792      \n",
      "                                                                 \n",
      " conv2d_1 (Conv2D)           (None, 24, 24, 32)        18464     \n",
      "                                                                 \n",
      " flatten (Flatten)           (None, 18432)             0         \n",
      "                                                                 \n",
      " dense (Dense)               (None, 10)                184330    \n",
      "                                                                 \n",
      "=================================================================\n",
      "Total params: 204,586\n",
      "Trainable params: 204,586\n",
      "Non-trainable params: 0\n",
      "_________________________________________________________________\n"
     ]
    },
    {
     "name": "stderr",
     "output_type": "stream",
     "text": [
      "2022-11-21 16:34:56.572039: I tensorflow/core/platform/cpu_feature_guard.cc:193] This TensorFlow binary is optimized with oneAPI Deep Neural Network Library (oneDNN) to use the following CPU instructions in performance-critical operations:  AVX2 FMA\n",
      "To enable them in other operations, rebuild TensorFlow with the appropriate compiler flags.\n",
      "2022-11-21 16:34:58.169096: I tensorflow/core/common_runtime/gpu/gpu_device.cc:1613] Created device /job:localhost/replica:0/task:0/device:GPU:0 with 10405 MB memory:  -> device: 0, name: NVIDIA GeForce GTX 1080 Ti, pci bus id: 0000:0e:00.0, compute capability: 6.1\n"
     ]
    }
   ],
   "source": [
    "if DATASET==\"mnist\":\n",
    "    model = mnistCNN((28,28,3))\n",
    "elif DATASET==\"cifar10\":\n",
    "    model = smallCNN2(INPUT_SIZE)\n",
    "else:\n",
    "    assert False, \"Problem!\"\n",
    "    \n",
    "model.summary()"
   ]
  },
  {
   "cell_type": "code",
   "execution_count": 16,
   "id": "3edaa6d3",
   "metadata": {},
   "outputs": [],
   "source": [
    "if False:\n",
    "    augmentationModel = dataAugmentation(INPUT_SIZE)\n",
    "    augmentationModel.summary()\n",
    "\n",
    "\n",
    "    modelToTrain = tf.keras.Sequential([augmentationModel, model])\n",
    "    modelToTrain.summary()    \n"
   ]
  },
  {
   "cell_type": "code",
   "execution_count": 17,
   "id": "d0d5c8ae",
   "metadata": {},
   "outputs": [],
   "source": [
    "if OPTIMIZER==\"sgd\":\n",
    "    opt = SGD(learning_rate=0.001, momentum=0.9)\n",
    "elif OPTIMIZER==\"adam\":\n",
    "    opt= Adam(learning_rate=0.001)\n",
    "else:\n",
    "    assert False, \"Wrong optimizer\"\n",
    "    \n",
    "model.compile(optimizer=opt,\n",
    "        loss='categorical_crossentropy',\n",
    "        metrics=['accuracy'])"
   ]
  },
  {
   "cell_type": "code",
   "execution_count": 18,
   "id": "620347ad",
   "metadata": {},
   "outputs": [
    {
     "name": "stdout",
     "output_type": "stream",
     "text": [
      "Trojan (poison) dataset is being created\n",
      "uint8\n",
      "Train shapes (61000, 28, 28, 3) (61000, 10)\n",
      "Test shapes (10000, 28, 28, 3) (10000, 10)\n",
      "Train frequencies\n",
      "{0: 6923, 1: 6742, 2: 5958, 3: 6131, 4: 5842, 5: 5421, 6: 5918, 7: 6265, 8: 5851, 9: 5949}\n",
      "Test frequencies\n",
      "{0: 980, 1: 1135, 2: 1032, 3: 1010, 4: 982, 5: 892, 6: 958, 7: 1028, 8: 974, 9: 1009}\n",
      "Poison frequencies\n",
      "{0: 1000}\n"
     ]
    }
   ],
   "source": [
    "\n",
    "\n",
    "\n",
    "if TROJAN:\n",
    "        print(\"Trojan (poison) dataset is being created\")\n",
    "        mergedPoisonCleanData = appendPoisonToDataset(xTrain,yTrain,\\\n",
    "                poisonLabel=0,poisonType=\"traingle\",\\\n",
    "                poisionSampleCount=POISON_SAMPLE_COUNT, fixedLocation=FIXED_POISON_LOCATION)\n",
    "        xTrain = mergedPoisonCleanData[\"mergedX\"]\n",
    "        yTrain = mergedPoisonCleanData[\"mergedY\"]\n",
    "\n",
    "\n",
    "print(\"Train shapes\", xTrain.shape, yTrain.shape)\n",
    "print(\"Test shapes\", xTest.shape, yTest.shape)\n",
    "\n",
    "\n",
    "print(\"Train frequencies\")\n",
    "printFrequenciesOfOneHotGroundTruth(yTrain)\n",
    "print(\"Test frequencies\")\n",
    "printFrequenciesOfOneHotGroundTruth(yTest)\n",
    "print(\"Poison frequencies\")\n",
    "printFrequenciesOfOneHotGroundTruth(mergedPoisonCleanData[\"poisonY\"])\n",
    "\n",
    "\n",
    "\n",
    "\n",
    "\n"
   ]
  },
  {
   "cell_type": "code",
   "execution_count": 19,
   "id": "855826ef",
   "metadata": {},
   "outputs": [
    {
     "name": "stdout",
     "output_type": "stream",
     "text": [
      "Epoch 1/20\n"
     ]
    },
    {
     "name": "stderr",
     "output_type": "stream",
     "text": [
      "2022-11-21 16:35:01.338071: I tensorflow/compiler/xla/stream_executor/cuda/cuda_dnn.cc:428] Loaded cuDNN version 8201\n",
      "2022-11-21 16:35:02.724769: I tensorflow/compiler/xla/service/service.cc:173] XLA service 0x7f447d4d4a60 initialized for platform CUDA (this does not guarantee that XLA will be used). Devices:\n",
      "2022-11-21 16:35:02.724804: I tensorflow/compiler/xla/service/service.cc:181]   StreamExecutor device (0): NVIDIA GeForce GTX 1080 Ti, Compute Capability 6.1\n",
      "2022-11-21 16:35:02.737540: W tensorflow/compiler/xla/service/gpu/nvptx_helper.cc:56] Can't find libdevice directory ${CUDA_DIR}/nvvm/libdevice. This may result in compilation or runtime failures, if the program we try to run uses routines from libdevice.\n",
      "Searched for CUDA in the following directories:\n",
      "  ./cuda_sdk_lib\n",
      "  /usr/local/cuda-11.2\n",
      "  /usr/local/cuda\n",
      "  .\n",
      "You can choose the search directory by setting xla_gpu_cuda_data_dir in HloModule's DebugOptions.  For most apps, setting the environment variable XLA_FLAGS=--xla_gpu_cuda_data_dir=/path/to/cuda will work.\n",
      "2022-11-21 16:35:02.789063: I tensorflow/compiler/jit/xla_compilation_cache.cc:477] Compiled cluster using XLA!  This line is logged at most once for the lifetime of the process.\n"
     ]
    },
    {
     "name": "stdout",
     "output_type": "stream",
     "text": [
      "477/477 [==============================] - 7s 7ms/step - loss: 0.6268 - accuracy: 0.8334 - val_loss: 0.3319 - val_accuracy: 0.9095\n",
      "Epoch 2/20\n",
      "477/477 [==============================] - 3s 6ms/step - loss: 0.3606 - accuracy: 0.8975 - val_loss: 0.2992 - val_accuracy: 0.9186\n",
      "Epoch 3/20\n",
      "477/477 [==============================] - 3s 6ms/step - loss: 0.3001 - accuracy: 0.9143 - val_loss: 0.2622 - val_accuracy: 0.9265\n",
      "Epoch 4/20\n",
      "477/477 [==============================] - 3s 6ms/step - loss: 0.2537 - accuracy: 0.9286 - val_loss: 0.2186 - val_accuracy: 0.9381\n",
      "Epoch 5/20\n",
      "477/477 [==============================] - 3s 6ms/step - loss: 0.2070 - accuracy: 0.9419 - val_loss: 0.1802 - val_accuracy: 0.9524\n",
      "Epoch 6/20\n",
      "477/477 [==============================] - 3s 6ms/step - loss: 0.1594 - accuracy: 0.9553 - val_loss: 0.1330 - val_accuracy: 0.9658\n",
      "Epoch 7/20\n",
      "477/477 [==============================] - 3s 6ms/step - loss: 0.1253 - accuracy: 0.9655 - val_loss: 0.1064 - val_accuracy: 0.9720\n",
      "Epoch 8/20\n",
      "477/477 [==============================] - 3s 6ms/step - loss: 0.1033 - accuracy: 0.9718 - val_loss: 0.0904 - val_accuracy: 0.9735\n",
      "Epoch 9/20\n",
      "477/477 [==============================] - 3s 6ms/step - loss: 0.0886 - accuracy: 0.9760 - val_loss: 0.0804 - val_accuracy: 0.9772\n",
      "Epoch 10/20\n",
      "477/477 [==============================] - 3s 7ms/step - loss: 0.0786 - accuracy: 0.9778 - val_loss: 0.0732 - val_accuracy: 0.9780\n",
      "Epoch 11/20\n",
      "477/477 [==============================] - 3s 6ms/step - loss: 0.0717 - accuracy: 0.9796 - val_loss: 0.0689 - val_accuracy: 0.9798\n",
      "Epoch 12/20\n",
      "477/477 [==============================] - 3s 6ms/step - loss: 0.0663 - accuracy: 0.9814 - val_loss: 0.0636 - val_accuracy: 0.9810\n",
      "Epoch 13/20\n",
      "477/477 [==============================] - 3s 6ms/step - loss: 0.0614 - accuracy: 0.9823 - val_loss: 0.0642 - val_accuracy: 0.9816\n",
      "Epoch 14/20\n",
      "477/477 [==============================] - 3s 6ms/step - loss: 0.0579 - accuracy: 0.9833 - val_loss: 0.0595 - val_accuracy: 0.9814\n",
      "Epoch 15/20\n",
      "477/477 [==============================] - 3s 6ms/step - loss: 0.0545 - accuracy: 0.9842 - val_loss: 0.0576 - val_accuracy: 0.9826\n",
      "Epoch 16/20\n",
      "477/477 [==============================] - 3s 6ms/step - loss: 0.0519 - accuracy: 0.9846 - val_loss: 0.0554 - val_accuracy: 0.9822\n",
      "Epoch 17/20\n",
      "477/477 [==============================] - 3s 6ms/step - loss: 0.0491 - accuracy: 0.9855 - val_loss: 0.0581 - val_accuracy: 0.9823\n",
      "Epoch 18/20\n",
      "477/477 [==============================] - 3s 6ms/step - loss: 0.0471 - accuracy: 0.9862 - val_loss: 0.0556 - val_accuracy: 0.9819\n",
      "Epoch 19/20\n",
      "477/477 [==============================] - 3s 6ms/step - loss: 0.0449 - accuracy: 0.9871 - val_loss: 0.0553 - val_accuracy: 0.9833\n",
      "Epoch 20/20\n",
      "477/477 [==============================] - 3s 6ms/step - loss: 0.0425 - accuracy: 0.9879 - val_loss: 0.0538 - val_accuracy: 0.9831\n"
     ]
    }
   ],
   "source": [
    "# model.fit(xTrain/255.0, yTrain)\n",
    "\n",
    "if MODEL_LOAD:\n",
    "    model=keras.models.load_model(MODEL_FILE_NAME)\n",
    "\n",
    "model.fit(xTrain/255.0, yTrain, epochs=EPOCHS, batch_size=BATCH_SIZE, validation_data=(xTest/255.0, yTest),shuffle=True)\n",
    "\n",
    "if MODEL_SAVE:\n",
    "    model.save(MODEL_FILE_NAME)"
   ]
  },
  {
   "cell_type": "code",
   "execution_count": 20,
   "id": "4340db85",
   "metadata": {},
   "outputs": [
    {
     "name": "stdout",
     "output_type": "stream",
     "text": [
      "Clean test accuracy\n",
      "79/79 [==============================] - 0s 4ms/step - loss: 0.0538 - accuracy: 0.9831\n",
      "Poison test accuracy\n",
      "8/8 [==============================] - 0s 7ms/step - loss: 0.0107 - accuracy: 0.9980\n",
      "End of the program\n"
     ]
    }
   ],
   "source": [
    "print(\"Clean test accuracy\")\n",
    "model.evaluate(xTest/255.0, yTest, batch_size=BATCH_SIZE)\n",
    "print(\"Poison test accuracy\")\n",
    "model.evaluate(mergedPoisonCleanData[\"poisonX\"]/255.0, mergedPoisonCleanData[\"poisonY\"], batch_size=BATCH_SIZE)\n",
    "\n",
    "print(\"End of the program\")"
   ]
  },
  {
   "cell_type": "code",
   "execution_count": 21,
   "id": "9b430a95",
   "metadata": {},
   "outputs": [
    {
     "name": "stdout",
     "output_type": "stream",
     "text": [
      "(10000, 28, 28, 3)\n",
      "(10000, 10)\n",
      "(1000, 28, 28, 3)\n",
      "(1000, 10)\n"
     ]
    }
   ],
   "source": [
    "print(xTest.shape)\n",
    "print(yTest.shape)\n",
    "print(mergedPoisonCleanData[\"poisonX\"].shape)\n",
    "print(mergedPoisonCleanData[\"poisonY\"].shape)"
   ]
  },
  {
   "cell_type": "code",
   "execution_count": 22,
   "id": "3d2c7ec1",
   "metadata": {},
   "outputs": [
    {
     "name": "stdout",
     "output_type": "stream",
     "text": [
      "cleanY [0. 0. 1. 0. 0. 0. 0. 0. 0. 0.]\n",
      "mergedY [1. 0. 0. 0. 0. 0. 0. 0. 0. 0.]\n",
      "poisonY [1. 0. 0. 0. 0. 0. 0. 0. 0. 0.]\n"
     ]
    },
    {
     "data": {
      "image/png": "[encoded data removed]",
      "text/plain": [
       "<Figure size 640x480 with 1 Axes>"
      ]
     },
     "metadata": {},
     "output_type": "display_data"
    },
    {
     "data": {
      "image/png": "[encoded data removed]",
      "text/plain": [
       "<Figure size 640x480 with 1 Axes>"
      ]
     },
     "metadata": {},
     "output_type": "display_data"
    },
    {
     "data": {
      "image/png": "[encoded data removed]",
      "text/plain": [
       "<Figure size 640x480 with 1 Axes>"
      ]
     },
     "metadata": {},
     "output_type": "display_data"
    }
   ],
   "source": [
    "IDX = 109\n",
    "\n",
    "mergedIDX = IDX + mergedPoisonCleanData[\"cleanY\"].shape[0]\n",
    "\n",
    "\n",
    "print(\"cleanY\",mergedPoisonCleanData[\"cleanY\"][IDX])\n",
    "print(\"mergedY\",mergedPoisonCleanData[\"mergedY\"][mergedIDX])\n",
    "print(\"poisonY\",mergedPoisonCleanData[\"poisonY\"][IDX])\n",
    "\n",
    "\n",
    "\n",
    "showNumpyAsImage(mergedPoisonCleanData[\"cleanX\"][IDX])\n",
    "showNumpyAsImage(mergedPoisonCleanData[\"poisonX\"][IDX])\n",
    "showNumpyAsImage(mergedPoisonCleanData[\"mergedX\"][mergedIDX])\n",
    "\n"
   ]
  },
  {
   "cell_type": "code",
   "execution_count": 23,
   "id": "693360e6",
   "metadata": {},
   "outputs": [
    {
     "name": "stdout",
     "output_type": "stream",
     "text": [
      "1907/1907 [==============================] - 4s 2ms/step\n",
      "(61000,) [5 0 4 1 9 2 1 3 1 4]\n",
      "(61000,) [5 0 4 1 9 2 1 3 1 4]\n"
     ]
    },
    {
     "data": {
      "image/png": "[encoded data removed]",
      "text/plain": [
       "<Figure size 640x480 with 2 Axes>"
      ]
     },
     "metadata": {},
     "output_type": "display_data"
    },
    {
     "name": "stdout",
     "output_type": "stream",
     "text": [
      "32/32 [==============================] - 0s 2ms/step\n",
      "(1000,) [0 0 0 0 0 0 0 0 0 0]\n",
      "(1000,) [0 0 0 0 0 0 0 0 0 0]\n"
     ]
    },
    {
     "data": {
      "image/png": "[encoded data removed]",
      "text/plain": [
       "<Figure size 640x480 with 2 Axes>"
      ]
     },
     "metadata": {},
     "output_type": "display_data"
    }
   ],
   "source": [
    "showConfusionMap(yTrue=mergedPoisonCleanData[\"mergedY\"],yPred=model.predict(mergedPoisonCleanData[\"mergedX\"]/255.0),labels=np.arange(10))\n",
    "showConfusionMap(yTrue=mergedPoisonCleanData[\"poisonY\"],yPred=model.predict(mergedPoisonCleanData[\"poisonX\"]/255.0),labels=np.arange(10))\n"
   ]
  },
  {
   "cell_type": "code",
   "execution_count": null,
   "id": "dee9a543",
   "metadata": {},
   "outputs": [],
   "source": [
    "\n"
   ]
  }
 ],
 "metadata": {
  "kernelspec": {
   "display_name": "Python 3 (ipykernel)",
   "language": "python",
   "name": "python3"
  },
  "language_info": {
   "codemirror_mode": {
    "name": "ipython",
    "version": 3
   },
   "file_extension": ".py",
   "mimetype": "text/x-python",
   "name": "python",
   "nbconvert_exporter": "python",
   "pygments_lexer": "ipython3",
   "version": "3.7.15"
  }
 },
 "nbformat": 4,
 "nbformat_minor": 5
}
