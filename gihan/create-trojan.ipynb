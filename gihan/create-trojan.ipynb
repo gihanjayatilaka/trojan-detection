{
 "cells": [
  {
   "cell_type": "code",
   "execution_count": 1,
   "id": "e6a8cca1",
   "metadata": {},
   "outputs": [],
   "source": [
    "import __main__ as main\n",
    "IS_NOTEBOOK = not hasattr(main, '__file__')"
   ]
  },
  {
   "cell_type": "code",
   "execution_count": 2,
   "id": "32bc399d",
   "metadata": {},
   "outputs": [],
   "source": [
    "# from keras import backend as K\n",
    "# cfg = K.tf.ConfigProto()\n",
    "# cfg.gpu_options.allow_growth = True\n",
    "# K.set_session(K.tf.Session(config=cfg))"
   ]
  },
  {
   "cell_type": "code",
   "execution_count": 3,
   "id": "fdae1462",
   "metadata": {},
   "outputs": [
    {
     "name": "stdout",
     "output_type": "stream",
     "text": [
      "Tue Dec 13 20:43:07 2022       \n",
      "+-----------------------------------------------------------------------------+\n",
      "| NVIDIA-SMI 515.76       Driver Version: 515.76       CUDA Version: 11.7     |\n",
      "|-------------------------------+----------------------+----------------------+\n",
      "| GPU  Name        Persistence-M| Bus-Id        Disp.A | Volatile Uncorr. ECC |\n",
      "| Fan  Temp  Perf  Pwr:Usage/Cap|         Memory-Usage | GPU-Util  Compute M. |\n",
      "|                               |                      |               MIG M. |\n",
      "|===============================+======================+======================|\n",
      "|   0  NVIDIA RTX A6000    Off  | 00000000:01:00.0 Off |                  Off |\n",
      "| 30%   35C    P0    33W / 300W |      0MiB / 49140MiB |      0%      Default |\n",
      "|                               |                      |                  N/A |\n",
      "+-------------------------------+----------------------+----------------------+\n",
      "                                                                               \n",
      "+-----------------------------------------------------------------------------+\n",
      "| Processes:                                                                  |\n",
      "|  GPU   GI   CI        PID   Type   Process name                  GPU Memory |\n",
      "|        ID   ID                                                   Usage      |\n",
      "|=============================================================================|\n",
      "|  No running processes found                                                 |\n",
      "+-----------------------------------------------------------------------------+\n",
      "GPU 0: NVIDIA RTX A6000 (UUID: GPU-f74866f5-9add-997f-dc1b-65e002a6f120)\n"
     ]
    }
   ],
   "source": [
    "if IS_NOTEBOOK:\n",
    "    !nvidia-smi\n",
    "    !nvidia-smi -L"
   ]
  },
  {
   "cell_type": "code",
   "execution_count": 4,
   "id": "04a3d542",
   "metadata": {},
   "outputs": [
    {
     "data": {
      "text/plain": [
       "_StoreAction(option_strings=['--diversityFactor'], dest='diversityFactor', nargs=None, const=None, default=None, type=<class 'str'>, choices=None, help='Give a dictionary using : and , within double quotes.', metavar=None)"
      ]
     },
     "execution_count": 4,
     "metadata": {},
     "output_type": "execute_result"
    }
   ],
   "source": [
    "import argparse\n",
    "\n",
    "args = argparse.ArgumentParser()\n",
    "\n",
    "args.add_argument(\"--loggerPrefix\",type=str, default=\"log\")\n",
    "\n",
    "args.add_argument(\"--epochs\",type=int,default=20)\n",
    "args.add_argument(\"--batchSize\",type=int,default=128)\n",
    "args.add_argument(\"--trojan\",type=bool,default=True)\n",
    "args.add_argument(\"--poisonSampleCount\",type=int,default=5000)\n",
    "\n",
    "args.add_argument(\"--dataset\",type=str,default=\"mnist\")\n",
    "# args.add_argument(\"--dataset\",type=str,default=\"cifar10\")\n",
    "\n",
    "args.add_argument(\"--optimizer\",type=str,default=\"sgd\")\n",
    "# args.add_argument(\"--optimizer\",type=str,default=\"adam\")\n",
    "\n",
    "# args.add_argument(\"--fixedPoisonLocation\",type=int,default=None)\n",
    "args.add_argument(\"--fixedPoisonLocation\",type=int,default=1)\n",
    "\n",
    "\n",
    "args.add_argument(\"--modelSaveFile\",type=str,default=None)\n",
    "# args.add_argument(\"--modelSaveFile\",type=str,default=\"cifarTrained-20221121-0.h5\")\n",
    "args.add_argument(\"--modelLoadFile\",type=str,default=None)\n",
    "# args.add_argument(\"--modelLoadFile\",type=str,default=\"cifarTrained-20221121-0.h5\")\n",
    "\n",
    "args.add_argument(\"--modelTrain\",type=bool,default=True)\n",
    "\n",
    "\n",
    "args.add_argument(\"--experimentType\",type=str,default=\"shuffled\")\n",
    "# args.add_argument(\"--experimentType\",type=str,default=\"fullBatch\")\n",
    "# args.add_argument(\"--experimentType\",type=str,default=\"percentageOfBatch\")\n",
    "\n",
    "\n",
    "\n",
    "args.add_argument(\"--poisonColorR\",type=int, default=128)\n",
    "args.add_argument(\"--poisonColorG\",type=int, default=128)\n",
    "args.add_argument(\"--poisonColorB\",type=int, default=128)\n",
    "\n",
    "\n",
    "args.add_argument(\"--diversityFactor\",type=str, default=None, help=\"Give a dictionary using : and , within double quotes.\")\n",
    "# args.add_argument(\"--diversityFactor\",type=str, default=\"type:multipleLocations,noLocations:2\")\n",
    "# args.add_argument(\"--diversityFactor\",type=str, default=\"type:multipleLocations,noLocations:3\")\n",
    "# args.add_argument(\"--diversityFactor\",type=str, default=\"type:locationVariance,locationVariance:2\")\n",
    "# args.add_argument(\"--diversityFactor\",type=str, default=\"type:locationVariance,locationVariance:5\")\n",
    "# args.add_argument(\"--diversityFactor\",type=str, default=\"type:locationVariance,locationVariance:8\")\n",
    "\n",
    "\n",
    "\n"
   ]
  },
  {
   "cell_type": "code",
   "execution_count": 5,
   "id": "70106a81",
   "metadata": {},
   "outputs": [],
   "source": [
    "if IS_NOTEBOOK: args = args.parse_args(args=[])\n",
    "else: args = args.parse_args()\n",
    "\n",
    "    \n",
    "LOGGER_PREFIX = args.loggerPrefix\n",
    "logDict = {}\n",
    "logDict[\"mergedTrainLoss\"]=[]\n",
    "logDict[\"cleanTestLoss\"]=[]\n",
    "logDict[\"mergedTrainAcc\"]=[]\n",
    "logDict[\"cleanTestAcc\"]=[]\n",
    "logDict[\"trojanEffectivenessLoss\"]=[]\n",
    "logDict[\"trojanEffectivenessAcc\"]=[]\n"
   ]
  },
  {
   "cell_type": "code",
   "execution_count": 6,
   "id": "863240de",
   "metadata": {},
   "outputs": [],
   "source": [
    "\n",
    "\n",
    "EPOCHS = args.epochs\n",
    "BATCH_SIZE = args.batchSize\n",
    "TROJAN = args.trojan\n",
    "DATASET = args.dataset\n",
    "POISON_SAMPLE_COUNT = args.poisonSampleCount\n",
    "OPTIMIZER = args.optimizer\n",
    "\n",
    "\n",
    "FIXED_POISON_LOCATION = args.fixedPoisonLocation\n",
    "\n",
    "\n",
    "MODEL_SAVE = not (args.modelSaveFile==None)\n",
    "MODEL_LOAD = not (args.modelLoadFile==None)\n",
    "MODEL_TRAIN = args.modelTrain\n",
    "\n",
    "if MODEL_SAVE: MODEL_FILE_NAME = args.modelSaveFile\n",
    "elif MODEL_LOAD: MODEL_FILE_NAME = args.modelLoadFile\n",
    "\n",
    "COUNTER_imagesSaved = 0\n",
    "EXPERIMENT_TYPE = args.experimentType\n",
    "\n",
    "\n",
    "POISON_COLOR_R = args.poisonColorR\n",
    "POISON_COLOR_G = args.poisonColorG\n",
    "POISON_COLOR_B = args.poisonColorB\n",
    "\n",
    "DIVERSITY_FACTOR_DICT = {}\n",
    "if args.diversityFactor==None:\n",
    "    DIVERSITY_FACTOR_DICT=None\n",
    "else:\n",
    "    keyVal = args.diversityFactor.strip().split(\",\")\n",
    "    for kv in keyVal:\n",
    "        k,v=kv.split(\":\")\n",
    "        try:\n",
    "            DIVERSITY_FACTOR_DICT[k]=int(v)\n",
    "        except:\n",
    "            DIVERSITY_FACTOR_DICT[k]=v\n",
    "        \n",
    "    print(\"Diversity Factor Dict=\")\n",
    "    print(DIVERSITY_FACTOR_DICT)\n"
   ]
  },
  {
   "cell_type": "code",
   "execution_count": 7,
   "id": "9f4f681a",
   "metadata": {},
   "outputs": [
    {
     "name": "stderr",
     "output_type": "stream",
     "text": [
      "2022-12-13 20:43:07.892395: I tensorflow/core/platform/cpu_feature_guard.cc:193] This TensorFlow binary is optimized with oneAPI Deep Neural Network Library (oneDNN) to use the following CPU instructions in performance-critical operations:  AVX2 FMA\n",
      "To enable them in other operations, rebuild TensorFlow with the appropriate compiler flags.\n",
      "2022-12-13 20:43:08.482832: W tensorflow/compiler/xla/stream_executor/platform/default/dso_loader.cc:64] Could not load dynamic library 'libnvinfer.so.7'; dlerror: libnvinfer.so.7: cannot open shared object file: No such file or directory; LD_LIBRARY_PATH: /opt/common/cuda/cuda-10.2.89/lib64:/vulcanscratch/gihan/anaconda3/envs/keras/lib/\n",
      "2022-12-13 20:43:08.482918: W tensorflow/compiler/xla/stream_executor/platform/default/dso_loader.cc:64] Could not load dynamic library 'libnvinfer_plugin.so.7'; dlerror: libnvinfer_plugin.so.7: cannot open shared object file: No such file or directory; LD_LIBRARY_PATH: /opt/common/cuda/cuda-10.2.89/lib64:/vulcanscratch/gihan/anaconda3/envs/keras/lib/\n",
      "2022-12-13 20:43:08.482925: W tensorflow/compiler/tf2tensorrt/utils/py_utils.cc:38] TF-TRT Warning: Cannot dlopen some TensorRT libraries. If you would like to use Nvidia GPU with TensorRT, please make sure the missing libraries mentioned above are installed properly.\n"
     ]
    }
   ],
   "source": [
    "import numpy as np\n",
    "import tensorflow as tf\n",
    "from tensorflow.keras.layers import (BatchNormalization, Conv2D, Dense,\n",
    "                                     Flatten, Input, ReLU, Rescaling, Softmax,\n",
    "                                     RandomFlip, RandomRotation, RandomTranslation,RandomBrightness,RandomContrast,\n",
    "                                     MaxPooling2D, Dropout)\n",
    "from tensorflow.keras.models import Model,Sequential\n",
    "from tensorflow.keras.optimizers import Adam, SGD\n",
    "\n",
    "\n",
    "# tf.keras.backend.set_image_data_format(\"channels_first\")\n",
    "\n",
    "\n",
    "\n",
    "\n",
    "\n"
   ]
  },
  {
   "cell_type": "code",
   "execution_count": 8,
   "id": "b6a6bc79",
   "metadata": {},
   "outputs": [
    {
     "name": "stdout",
     "output_type": "stream",
     "text": [
      "channels_last\n",
      "[PhysicalDevice(name='/physical_device:GPU:0', device_type='GPU')]\n",
      "[PhysicalDevice(name='/physical_device:CPU:0', device_type='CPU'), PhysicalDevice(name='/physical_device:GPU:0', device_type='GPU')]\n"
     ]
    }
   ],
   "source": [
    "print(tf.keras.backend.image_data_format())\n",
    "print(tf.config.list_physical_devices('GPU'))\n",
    "\n",
    "gpu_devices = tf.config.list_physical_devices('GPU')\n",
    "for device in gpu_devices:\n",
    "    tf.config.experimental.set_memory_growth(device, True)\n",
    "\n",
    "print(tf.config.list_physical_devices())"
   ]
  },
  {
   "cell_type": "code",
   "execution_count": 9,
   "id": "167e9ebd",
   "metadata": {},
   "outputs": [],
   "source": [
    "# %pip install numba\n",
    "from numba import cuda\n",
    "def clearGPU(modelsInGPU=None,working=False):\n",
    "    if not working: return modelsInGPU\n",
    "    # tf.keras.backend.clear_session()\n",
    "    # del model\n",
    "    \n",
    "    if not modelsInGPU==None:\n",
    "        if type(modelsInGPU) == list:\n",
    "            _=0\n",
    "        else:\n",
    "            modelsInGPU.save(\"tempSaveAndLoad.h5\")\n",
    "            modelsToReturn = tf.keras.models.load_model(\"tempSaveAndLoad.h5\")\n",
    "    \n",
    "    \n",
    "    cuda.select_device(0)\n",
    "    cuda.close()\n",
    "    return modelsToReturn"
   ]
  },
  {
   "cell_type": "code",
   "execution_count": 10,
   "id": "26a09d92",
   "metadata": {},
   "outputs": [],
   "source": [
    "def dataAugmentation(inputSize):\n",
    "        x = Input(shape=inputSize)\n",
    "        y = RandomFlip(\"horizontal\")(x)\n",
    "        y = RandomRotation(0.2)(y)\n",
    "        # y = RandomZoom(0.2)(y)\n",
    "        # y = RandomCrop(inputSize[1], inputSize[2])(y)\n",
    "        # y = RandomContrast(0.2)(y)\n",
    "        # y = RandomTranslation(0.2, 0.2)(y)\n",
    "        # y = RandomBrightness(0.2)(y)\n",
    "        model = tf.keras.Model(inputs=x, outputs=y)\n",
    "        return model\n",
    "\n",
    "\n",
    "\n",
    "\n",
    "\n",
    "def printFrequenciesOfOneHotGroundTruth(y):\n",
    "        y = np.argmax(y,axis=1)\n",
    "        unique, counts = np.unique(y, return_counts=True)\n",
    "        print(dict(zip(unique, counts)))\n",
    "\n",
    "\n",
    "\n",
    "def saveNumpyAsImage(x,fileName):\n",
    "        x = np.squeeze(x)\n",
    "        x = x#*255\n",
    "        x = x.astype(np.uint8)\n",
    "        img = Image.fromarray(x, 'RGB')\n",
    "        img.save(fileName)"
   ]
  },
  {
   "cell_type": "code",
   "execution_count": 11,
   "id": "726bb5ad",
   "metadata": {},
   "outputs": [],
   "source": [
    "def smallCNN(inputSize):\n",
    "        x = Input(shape=inputSize)\n",
    "        # y0 = Rescaling(1./255)(x)\n",
    "        y0 = x\n",
    "        y1 = Conv2D(16, 3, padding='same')(y0)\n",
    "        y2 = BatchNormalization()(y1)\n",
    "        y3 = ReLU()(y2)\n",
    "        y4 = Conv2D(32, 4, padding='same', strides=2)(y3)\n",
    "        y5 = BatchNormalization()(y4)\n",
    "        y6 = ReLU()(y5)\n",
    "        y7 = Conv2D(32, 4, padding='same', strides=2)(y6)\n",
    "        y8 = BatchNormalization()(y7)\n",
    "        y9 = ReLU()(y8)\n",
    "        y10 = Flatten()(y9)\n",
    "        y11 = Dense(128)(y10)\n",
    "        y12 = BatchNormalization()(y11)\n",
    "        y13 = ReLU()(y12)\n",
    "        y14 = Dense(10)(y13)\n",
    "        y15 = Softmax()(y14)\n",
    "        y = y15\n",
    "        model = tf.keras.Model(inputs=x, outputs=y)\n",
    "        return model"
   ]
  },
  {
   "cell_type": "code",
   "execution_count": 12,
   "id": "d5ffebf5",
   "metadata": {},
   "outputs": [],
   "source": [
    "\n",
    "def smallCNN2(inputSize):\n",
    "        # 100 Epoch accuracy = 83.450\n",
    "        # As per https://machinelearningmastery.com/how-to-develop-a-cnn-from-scratch-for-cifar-10-photo-classification/\n",
    "        model = Sequential()\n",
    "        model.add(Input(shape=inputSize))\n",
    "        model.add(Conv2D(32, (3, 3), activation='relu', kernel_initializer='he_uniform', padding='same'))\n",
    "        model.add(Conv2D(32, (3, 3), activation='relu', kernel_initializer='he_uniform', padding='same'))\n",
    "        model.add(MaxPooling2D((2, 2)))\n",
    "        model.add(Dropout(0.2))\n",
    "        model.add(Conv2D(64, (3, 3), activation='relu', kernel_initializer='he_uniform', padding='same'))\n",
    "        model.add(Conv2D(64, (3, 3), activation='relu', kernel_initializer='he_uniform', padding='same'))\n",
    "        model.add(MaxPooling2D((2, 2)))\n",
    "        model.add(Dropout(0.2))\n",
    "        model.add(Conv2D(128, (3, 3), activation='relu', kernel_initializer='he_uniform', padding='same'))\n",
    "        model.add(Conv2D(128, (3, 3), activation='relu', kernel_initializer='he_uniform', padding='same'))\n",
    "        model.add(MaxPooling2D((2, 2)))\n",
    "        model.add(Dropout(0.2))\n",
    "        model.add(Flatten())\n",
    "        model.add(Dense(128, activation='relu', kernel_initializer='he_uniform'))\n",
    "        model.add(Dropout(0.2))\n",
    "        model.add(Dense(10, activation='softmax'))\n",
    "        return model\n",
    "\n",
    "\n"
   ]
  },
  {
   "cell_type": "code",
   "execution_count": 13,
   "id": "f101fb8f",
   "metadata": {},
   "outputs": [],
   "source": [
    "def mnistCNN(inputSize):\n",
    "    #https://www.kaggle.com/code/anmolai/mnist-classification-of-digits-accuracy-98\n",
    "    model = Sequential()\n",
    "    model.add(Input(shape=inputSize))\n",
    "    model.add(Conv2D(64, kernel_size=3, activation='relu'))\n",
    "    model.add(Conv2D(32, kernel_size=3, activation='relu'))\n",
    "    model.add(Flatten())\n",
    "    model.add(Dense(10, activation='softmax'))\n",
    "    \n",
    "    return model\n"
   ]
  },
  {
   "cell_type": "code",
   "execution_count": 14,
   "id": "1f208696",
   "metadata": {},
   "outputs": [],
   "source": [
    "def shuffle2(x,y,lists=False):\n",
    "    if not lists:\n",
    "        assert x.shape[0]==y.shape[0], \"Shuffling different sized arrays together.\"\n",
    "        randomPermutation = np.random.shuffle(np.arange(x.shape[0]))\n",
    "        x = x[randomPermutation]\n",
    "        y = y[randomPermutation]\n",
    "        \n",
    "        x,y = np.squeeze(x,axis=0), np.squeeze(y,axis=0)\n",
    "    \n",
    "    else:\n",
    "        assert len(x)==len(y),\"Shuffling different sized lists together.\"\n",
    "        randomPermutation = np.random.shuffle(np.arange(len(x)))\n",
    "        \n",
    "        xNew = [x[randomPermutation[i]] for i in range(randomPermutation.shape[0])]\n",
    "        yNew = [y[randomPermutation[i]] for i in range(randomPermutation.shape[0])]\n",
    "        \n",
    "        x,y = xNew,yNew\n",
    "    return x,y\n",
    "    "
   ]
  },
  {
   "cell_type": "code",
   "execution_count": 15,
   "id": "6f678e65",
   "metadata": {},
   "outputs": [],
   "source": [
    "# def putShape(inputImages,locations, poisonType=\"triangle\"):\n",
    "    \n",
    "    "
   ]
  },
  {
   "cell_type": "code",
   "execution_count": 16,
   "id": "0af6cfc3",
   "metadata": {},
   "outputs": [],
   "source": [
    "def showNImagesWithLabels(startIdx,N,X,Y):\n",
    "#     import matplotlib.pyplot as plt\n",
    "#     plt.rcParams['figure.figsize'] = [10, 5]\n",
    "\n",
    "    ansY = str(np.argmax(Y[startIdx]))\n",
    "    ansX = X[startIdx]\n",
    "    for t in range(1,N):\n",
    "        ansY = ansY + \" \" + str(np.argmax(Y[startIdx + t]))\n",
    "        ansX = np.concatenate((ansX,X[startIdx + t]), axis=1)\n",
    "    \n",
    "    print(\"LABELS : \",ansY)\n",
    "    print(\"Min: \",np.min(ansX),\"Max: \",np.max(ansX), \"Size of all images:\",ansX.shape)\n",
    "    showNumpyAsImage(ansX)\n",
    "    "
   ]
  },
  {
   "cell_type": "code",
   "execution_count": 17,
   "id": "fe5301db",
   "metadata": {},
   "outputs": [],
   "source": [
    "def poisonUtil(inputImages, xLocations, yLocations, offsetsXY, colors, diffColors=False):\n",
    "    print(inputImages.dtype)\n",
    "    N = inputImages.shape[0]\n",
    "    H = inputImages.shape[1]\n",
    "    W = inputImages.shape[2]\n",
    "    \n",
    "    \n",
    "    for oxy in offsetsXY:\n",
    "        if not diffColors:\n",
    "            inputImages[np.arange(N), xLocations + oxy[0], yLocations + oxy[1], 0] = colors[0]\n",
    "            inputImages[np.arange(N), xLocations + oxy[0], yLocations + oxy[1], 1] = colors[1]\n",
    "            inputImages[np.arange(N), xLocations + oxy[0], yLocations + oxy[1], 2] = colors[2]\n",
    "        if diffColors:\n",
    "            inputImages[np.arange(N), xLocations + oxy[0], yLocations + oxy[1], 0] = colors[:,0]\n",
    "            inputImages[np.arange(N), xLocations + oxy[0], yLocations + oxy[1], 1] = colors[:,1]\n",
    "            inputImages[np.arange(N), xLocations + oxy[0], yLocations + oxy[1], 2] = colors[:,2]\n",
    "        \n",
    "        \n",
    "    return inputImages"
   ]
  },
  {
   "cell_type": "code",
   "execution_count": 18,
   "id": "4fe7d89f",
   "metadata": {},
   "outputs": [],
   "source": [
    "def poisonDatasetMerger(inputImages,listOfDictsOfIdxXY,offsetsXY):\n",
    "    N = inputImages.shape[0]\n",
    "    xLocations = np.zeros((N),dtype=int)\n",
    "    yLocations = np.zeros((N),dtype=int)\n",
    "    colors = np.zeros((N,3),dtype=int)\n",
    "    for di in listOfDictsOfIdxXY:\n",
    "        xLocations[di[\"idx\"]]=di[\"X\"]\n",
    "        yLocations[di[\"idx\"]]=di[\"Y\"]\n",
    "        colors[di[\"idx\"]]=di[\"colors\"]\n",
    "    return poisonUtil(inputImages,xLocations,yLocations,offsetsXY,colors,diffColors=True)\n",
    "    \n",
    "    "
   ]
  },
  {
   "cell_type": "code",
   "execution_count": 19,
   "id": "891de71f",
   "metadata": {},
   "outputs": [],
   "source": [
    "def poisonDataset(inputImages,poisonLabel=0,poisonType=\"traingle\",fixedLocation=None, redPixel=False, diversityFactor=None):        \n",
    "        inputImages = np.array(inputImages)\n",
    "        \n",
    "        print(inputImages.dtype)\n",
    "        N = inputImages.shape[0]\n",
    "        H = inputImages.shape[1]\n",
    "        W = inputImages.shape[2]\n",
    "\n",
    "        shapes={}\n",
    "        shapes[\"traingle\"] = [[0,0],[1,0],[0,1]]\n",
    "        shapes[\"square\"] = [[0,0],[1,0],[0,1],[1,1]]\n",
    "        shapes[\"dialatedSquare\"] = [[0,0],[2,0],[0,2],[2,2]]\n",
    "        \n",
    "        \n",
    "        if diversityFactor==None:\n",
    "\n",
    "\n",
    "            \n",
    "            xIdx = np.full((N), fixedLocation[0], dtype=int)\n",
    "            yIdx = np.full((N), fixedLocation[1], dtype=int)\n",
    "            idx = np.arange(N, dtype=int)\n",
    "            \n",
    "            col = np.tile(np.array([POISON_COLOR_R,POISON_COLOR_G,POISON_COLOR_B],dtype=int),N).reshape((N,3))\n",
    "            inputImages=poisonDatasetMerger(inputImages,[{\"idx\":idx,\"X\":xIdx,\"Y\":yIdx,\"colors\":col}],shapes[poisonType])\n",
    "            \n",
    "#             inputImages = poisonUtil(inputImages, xIdx, yIdx,shapes[poisonType] ,\\\n",
    "#                                      [POISON_COLOR_R,POISON_COLOR_G,POISON_COLOR_B])\n",
    "\n",
    "        else:\n",
    "            if diversityFactor[\"type\"] == \"multipleLocations\":\n",
    "                \n",
    "                if diversityFactor[\"noLocations\"]==2:\n",
    "                    idx = np.random.shuffle(np.arange(N,dtype=int))\n",
    "                    idxA = idx[:idx.shape[0]//2]\n",
    "                    idxB = idx[idx.shape[0]//2:]\n",
    "\n",
    "                    xIdxA = np.full((N//2), 2, dtype=int)\n",
    "                    xIdxB = np.full((N//2), 2, dtype=int)\n",
    "\n",
    "                    yIdxA = np.full((N//2), 16, dtype=int)\n",
    "                    yIdxB = np.full((N//2), 16, dtype=int)\n",
    "\n",
    "                    col = np.tile(np.array([POISON_COLOR_R,POISON_COLOR_G,POISON_COLOR_B],dtype=int),N).reshape((N,3))\n",
    "                    colA = col[:col.shape[0]//2]\n",
    "                    colB = col[col.shape[0]//2:]\n",
    "\n",
    "\n",
    "                    listOfDicts = [{\"idx\":idxA,\"X\":xIdxA,\"Y\":YIdxA,\"colors\":colA},\\\n",
    "                                  {\"idx\":idxB,\"X\":xIdxB,\"Y\":YIdxB,\"colors\":colB}]\n",
    "\n",
    "                    inputImages = poisonDatasetMerger(inputImages,listOfDicts,shapes[poisonType])\n",
    "                    \n",
    "                \n",
    "                elif diversityFactor[\"noLocations\"] == 3:\n",
    "                    assert False, \"Implement this!\"\n",
    "\n",
    "            elif diversityFactor[\"type\"] == \"locationVariance\":\n",
    "                v = diversityFactor[\"locationVariance\"]\n",
    "                \n",
    "                x = fixedLocation[0]\n",
    "                y = fixedLocation[1]\n",
    "                \n",
    "                xMin = max(2,x-v)\n",
    "                xMax = min(inputImages.shape[1]-3,x+v)\n",
    "                \n",
    "                \n",
    "                yMin = max(2,y-v)\n",
    "                yMax = min(inputImages.shape[2]-3,y+v)\n",
    "                \n",
    "                \n",
    "                idx = np.arange((N),dtype=int)\n",
    "                xIdx = np.random.random_integers(xMin,high=xMax,size=(N))\n",
    "                yIdx = np.random.random_integers(yMin,high=yMax,size=(N))\n",
    "                \n",
    "                \n",
    "                col = np.tile(np.array([POISON_COLOR_R,POISON_COLOR_G,POISON_COLOR_B],dtype=int),N).reshape((N,3))\n",
    "                inputImages=poisonDatasetMerger(inputImages,[{\"idx\":idx,\"X\":xIdx,\"Y\":yIdx,\"colors\":col}],shapes[poisonType])\n",
    "                \n",
    "                \n",
    "                \n",
    "                \n",
    "            \n",
    "            \n",
    "        return inputImages, tf.keras.utils.to_categorical(poisonLabel*np.ones(N), num_classes=10,dtype='float32')\n",
    "\n",
    "\n",
    "\n",
    "\n"
   ]
  },
  {
   "cell_type": "code",
   "execution_count": 20,
   "id": "c3204abc",
   "metadata": {},
   "outputs": [],
   "source": [
    "def appendPoisonToDataset(x,y,poisonLabel=0,poisonType=\"traingle\",poisonSampleCount=1000,fixedLocation=None,\\\n",
    "                         experimentType = None, batchSize = 32, verbose=False,diversityFactor=None):\n",
    "        \n",
    "        assert experimentType in [\"shuffled\", \"fullBatch\", \"percentageOfBatch\"], \"Wrong experiment type\"\n",
    "        \n",
    "        \n",
    "        print(\"DEBUG: x.shape, y.shape\",x.shape, y.shape)\n",
    "        \n",
    "        if verbose:\n",
    "            print(\"Show before shuffling\")\n",
    "            showNImagesWithLabels(0,10,x,y)\n",
    "#             for t in range(10):\n",
    "#                 print(t, np.argmax(y[t]))\n",
    "#                 showNumpyAsImage(x[t])\n",
    "        \n",
    "        x,y = shuffle2(x,y)\n",
    "       \n",
    "    \n",
    "        if verbose:\n",
    "            print(\"Show after shuffling\")    \n",
    "            showNImagesWithLabels(0,10,x,y)\n",
    "#             for t in range(10):\n",
    "#                 print(t, np.argmax(y[t]))\n",
    "#                 showNumpyAsImage(x[t])\n",
    "        \n",
    "        xPoison, yPoison = poisonDataset(x[:poisonSampleCount],poisonLabel=poisonLabel,\\\n",
    "                                         poisonType=poisonType,fixedLocation=fixedLocation,diversityFactor=diversityFactor)\n",
    "        \n",
    "        print(\"DEBUG: x.shape, y.shape, xPoison.shape, yPoison.shape\",x.shape, y.shape, xPoison.shape, yPoison.shape)\n",
    "        \n",
    "        if experimentType==\"shuffled\":\n",
    "            xNew = np.concatenate((x,xPoison),axis=0)\n",
    "            yNew = np.concatenate((y,yPoison),axis=0)\n",
    "        \n",
    "        elif experimentType==\"fullBatch\":\n",
    "            idxStart = 0\n",
    "            xBatches = []\n",
    "            yBatches = []\n",
    "            while idxStart < poisonSampleCount:\n",
    "                idxEnd = idxStart + batchSize//2\n",
    "#                 print(\"DEBUG: idxEnd=idxStart + batchSize/2 = \",idxEnd)\n",
    "                thisBatchX = np.concatenate((x[idxStart:idxEnd],xPoison[idxStart:idxEnd]),axis=0)\n",
    "                thisBatchY = np.concatenate((y[idxStart:idxEnd],yPoison[idxStart:idxEnd]),axis=0)\n",
    "                \n",
    "                xBatches.append(thisBatchX)\n",
    "                yBatches.append(thisBatchY)\n",
    "                \n",
    "                \n",
    "                idxStart += batchSize//2\n",
    "            \n",
    "            if verbose:\n",
    "                print(\"Before adding all the clean labels\")\n",
    "                print(\"No of Batches\",len(xBatches),len(yBatches))\n",
    "                print(\" \".join([str(b.shape) for b in xBatches]))\n",
    "            \n",
    "            while idxStart< x.shape[0]:\n",
    "                idxEnd = idxStart + batchSize\n",
    "                xBatches.append(x[idxStart:idxEnd])\n",
    "                yBatches.append(y[idxStart:idxEnd])\n",
    "                idxStart = idxEnd\n",
    "            \n",
    "            if verbose:\n",
    "                print(\"After adding all the clean labels\")\n",
    "                print(\"No of Batches\",len(xBatches),len(yBatches))\n",
    "                print(\" \".join([str(b.shape) for b in xBatches]))\n",
    "            \n",
    "            \n",
    "            xNew = np.concatenate(xBatches,axis=0)\n",
    "            yNew = np.concatenate(yBatches,axis=0)\n",
    "            \n",
    "            \n",
    "        elif experimentType==\"percentageOfBatch\":\n",
    "            idxCleanStart = 0\n",
    "            idxPoisonStart = 0\n",
    "            \n",
    "            \n",
    "            \n",
    "            noBatches = int((x.shape[0] + xPoison.shape[0])/batchSize)\n",
    "            poisonSamplesPerBatch = int(xPoison.shape[0]/noBatches)\n",
    "            print(\"DEBUG:  poisonSamplesPerBatch=\",poisonSamplesPerBatch)\n",
    "            \n",
    "            assert poisonSamplesPerBatch>0, \"Not even one poison per batch\"\n",
    "            \n",
    "            xBatches = []\n",
    "            yBatches = []\n",
    "            \n",
    "            while idxCleanStart < x.shape[0] and idxPoisonStart < xPoison.shape[0]:\n",
    "                idxPoisonEnd  =  idxPoisonStart + poisonSamplesPerBatch\n",
    "                idxCleanEnd = idxCleanStart + poisonSamplesPerBatch \n",
    "                \n",
    "                thisBatchX = np.concatenate((x[idxCleanStart:idxCleanEnd],xPoison[idxPoisonStart:idxPoisonEnd]),axis=0)\n",
    "                thisBatchY = np.concatenate((y[idxCleanStart:idxCleanEnd],yPoison[idxPoisonStart:idxPoisonEnd]),axis=0)\n",
    "                \n",
    "                xBatches.append(thisBatchX)\n",
    "                yBatches.append(thisBatchY)\n",
    "                \n",
    "                idxPoisonStart = idxPoisonEnd\n",
    "                idxCleanStart = idxCleanEnd\n",
    "            \n",
    "            batchIdx = 0\n",
    "            while idxCleanStart < x.shape[0]:\n",
    "                idxCleanEnd = idxCleanStart + batchSize - xBatches[batchIdx].shape[0]\n",
    "                thisBatchX = np.concatenate((xBatches[batchIdx],x[idxCleanStart:idxCleanEnd]),axis=0)\n",
    "                thisBatchY = np.concatenate((yBatches[batchIdx],y[idxCleanStart:idxCleanEnd]),axis=0)\n",
    "                \n",
    "                xBatches[batchIdx] = thisBatchX\n",
    "                yBatches[batchIdx] = thisBatchY\n",
    "                \n",
    "                batchIdx+=1\n",
    "                idxCleanStart=idxCleanEnd\n",
    "            \n",
    "        \n",
    "            xNew = np.concatenate(xBatches,axis=0)\n",
    "            yNew = np.concatenate(yBatches,axis=0)\n",
    "        else:\n",
    "            assert False, \"ERROR\"\n",
    "\n",
    "            \n",
    "        if verbose:\n",
    "            print(\"Show concatenated\")    \n",
    "            showNImagesWithLabels(x.shape[0]-5,10,xNew,yNew)\n",
    "#             for t in range(10):\n",
    "#                 print(t, np.argmax(yNew[x.shape[0]-5+t]))\n",
    "#                 showNumpyAsImage(xNew[x.shape[0]-5+t])\n",
    "            \n",
    "            \n",
    "        toReturn = {\"mergedX\":xNew,\"mergedY\":yNew,\"poisonX\":xPoison,\"poisonY\":yPoison,\"cleanX\":x,\"cleanY\":y}\n",
    "        return toReturn"
   ]
  },
  {
   "cell_type": "code",
   "execution_count": 21,
   "id": "7c02f99b",
   "metadata": {},
   "outputs": [],
   "source": [
    "import matplotlib.pyplot as plt\n",
    "def showNumpyAsImage(x):\n",
    "        x = np.squeeze(x)\n",
    "        x = x*255\n",
    "        x = x.astype(np.uint8)\n",
    "        if IS_NOTEBOOK:\n",
    "#             plt.figure(figsize=(1, 1))\n",
    "            plt.imshow(x)\n",
    "            plt.show()\n",
    "        else:\n",
    "            _=None"
   ]
  },
  {
   "cell_type": "code",
   "execution_count": 22,
   "id": "1bbd963e",
   "metadata": {},
   "outputs": [],
   "source": [
    "from sklearn.metrics import confusion_matrix, ConfusionMatrixDisplay\n",
    "def showConfusionMap(yTrue=None,yPred=None,labels=None):\n",
    "#     assert not (yTrue==None or yPred==None), \"Not enough variables in calling the function\"\n",
    "    yTrue = np.argmax(yTrue,axis=-1)\n",
    "    yPred = np.argmax(yPred,axis=-1)\n",
    "    \n",
    "    print(yTrue.shape, yTrue[:10])\n",
    "    print(yPred.shape, yPred[:10])\n",
    "    cm = confusion_matrix(yTrue, yPred,labels=labels)\n",
    "    disp = ConfusionMatrixDisplay(confusion_matrix=cm)\n",
    "    disp.plot()\n",
    "    if IS_NOTEBOOK:\n",
    "        plt.show()\n",
    "    \n",
    "    \n",
    "        "
   ]
  },
  {
   "cell_type": "code",
   "execution_count": 23,
   "id": "0f392d75",
   "metadata": {},
   "outputs": [
    {
     "name": "stdout",
     "output_type": "stream",
     "text": [
      "(60000, 28, 28)\n"
     ]
    },
    {
     "data": {
      "image/png": "[encoded data removed]",
      "text/plain": [
       "<Figure size 640x480 with 1 Axes>"
      ]
     },
     "metadata": {},
     "output_type": "display_data"
    },
    {
     "name": "stdout",
     "output_type": "stream",
     "text": [
      "(60000, 28, 28, 3)\n"
     ]
    },
    {
     "data": {
      "image/png": "[encoded data removed]",
      "text/plain": [
       "<Figure size 640x480 with 1 Axes>"
      ]
     },
     "metadata": {},
     "output_type": "display_data"
    }
   ],
   "source": [
    "if DATASET==\"cifar10\":\n",
    "    (xTrain, yTrain), (xTest, yTest) = tf.keras.datasets.cifar10.load_data()\n",
    "    INPUT_SIZE = (32,32,3)\n",
    "elif DATASET==\"mnist\":\n",
    "    (xTrain, yTrain), (xTest, yTest) = tf.keras.datasets.mnist.load_data()\n",
    "    INPUT_SIZE = (28,28,1)\n",
    "    \n",
    "#     print(xTrain[0])\n",
    "    \n",
    "    print(xTrain.shape)\n",
    "    showNumpyAsImage(xTrain[0]/255.0)\n",
    "    xTrain=np.stack((xTrain,xTrain,xTrain),axis=3)\n",
    "    print(xTrain.shape)\n",
    "    \n",
    "    \n",
    "    xTest=np.stack((xTest,xTest,xTest),axis=3)\n",
    "    \n",
    "    showNumpyAsImage(xTrain[0]/255.0)\n",
    "\n",
    "    \n",
    "yTrain = tf.keras.utils.to_categorical(yTrain,num_classes=10, dtype='float32')\n",
    "yTest = tf.keras.utils.to_categorical(yTest,num_classes=10, dtype='float32')"
   ]
  },
  {
   "cell_type": "code",
   "execution_count": 24,
   "id": "fbca5d49",
   "metadata": {},
   "outputs": [],
   "source": [
    "def printShapesDictOfAr(dictOfAr):\n",
    "    toPrint = \"\"\n",
    "    for k in dictOfAr.keys():\n",
    "        toPrint += str(k) + \" \" + str(dictOfAr[k].shape) + \" | \"\n",
    "    print(toPrint)"
   ]
  },
  {
   "cell_type": "code",
   "execution_count": 25,
   "id": "674fb991",
   "metadata": {},
   "outputs": [],
   "source": [
    "# Testing the trojan dataset creation fucntions\n",
    "# \"shuffled\", \"fullBatch\", \"percentageOfBatch\"\n",
    "\n",
    "# mergedPoisonCleanData = appendPoisonToDataset(xTrain,yTrain,\\\n",
    "#         poisonLabel=0,poisonType=\"traingle\",\\\n",
    "#         poisonSampleCount=POISON_SAMPLE_COUNT, fixedLocation=[FIXED_POISON_LOCATION,FIXED_POISON_LOCATION],\\\n",
    "#         experimentType = \"shuffled\",verbose=False)\n",
    "\n",
    "# printShapesDictOfAr(mergedPoisonCleanData)\n",
    "\n",
    "# print(\"Test end\")"
   ]
  },
  {
   "cell_type": "code",
   "execution_count": 26,
   "id": "7a01b113",
   "metadata": {},
   "outputs": [
    {
     "name": "stdout",
     "output_type": "stream",
     "text": [
      "Model: \"sequential\"\n",
      "_________________________________________________________________\n",
      " Layer (type)                Output Shape              Param #   \n",
      "=================================================================\n",
      " conv2d (Conv2D)             (None, 26, 26, 64)        1792      \n",
      "                                                                 \n",
      " conv2d_1 (Conv2D)           (None, 24, 24, 32)        18464     \n",
      "                                                                 \n",
      " flatten (Flatten)           (None, 18432)             0         \n",
      "                                                                 \n",
      " dense (Dense)               (None, 10)                184330    \n",
      "                                                                 \n",
      "=================================================================\n",
      "Total params: 204,586\n",
      "Trainable params: 204,586\n",
      "Non-trainable params: 0\n",
      "_________________________________________________________________\n"
     ]
    },
    {
     "name": "stderr",
     "output_type": "stream",
     "text": [
      "2022-12-13 20:43:10.428919: I tensorflow/core/platform/cpu_feature_guard.cc:193] This TensorFlow binary is optimized with oneAPI Deep Neural Network Library (oneDNN) to use the following CPU instructions in performance-critical operations:  AVX2 FMA\n",
      "To enable them in other operations, rebuild TensorFlow with the appropriate compiler flags.\n",
      "2022-12-13 20:43:10.809323: I tensorflow/core/common_runtime/gpu/gpu_device.cc:1613] Created device /job:localhost/replica:0/task:0/device:GPU:0 with 46705 MB memory:  -> device: 0, name: NVIDIA RTX A6000, pci bus id: 0000:01:00.0, compute capability: 8.6\n"
     ]
    }
   ],
   "source": [
    "if DATASET==\"mnist\":\n",
    "    model = mnistCNN((28,28,3))\n",
    "elif DATASET==\"cifar10\":\n",
    "    model = smallCNN2(INPUT_SIZE)\n",
    "else:\n",
    "    assert False, \"Problem!\"\n",
    "    \n",
    "model.summary()"
   ]
  },
  {
   "cell_type": "code",
   "execution_count": 27,
   "id": "3edaa6d3",
   "metadata": {},
   "outputs": [],
   "source": [
    "if False:\n",
    "    augmentationModel = dataAugmentation(INPUT_SIZE)\n",
    "    augmentationModel.summary()\n",
    "\n",
    "\n",
    "    modelToTrain = tf.keras.Sequential([augmentationModel, model])\n",
    "    modelToTrain.summary()    \n"
   ]
  },
  {
   "cell_type": "code",
   "execution_count": 28,
   "id": "d0d5c8ae",
   "metadata": {},
   "outputs": [],
   "source": [
    "if OPTIMIZER==\"sgd\":\n",
    "    opt = SGD(learning_rate=0.001, momentum=0.9)\n",
    "elif OPTIMIZER==\"adam\":\n",
    "    opt= Adam(learning_rate=0.001)\n",
    "else:\n",
    "    assert False, \"Wrong optimizer\"\n",
    "    \n",
    "model.compile(optimizer=opt,\n",
    "        loss='categorical_crossentropy',\n",
    "        metrics=['accuracy'])"
   ]
  },
  {
   "cell_type": "code",
   "execution_count": 29,
   "id": "620347ad",
   "metadata": {},
   "outputs": [
    {
     "name": "stdout",
     "output_type": "stream",
     "text": [
      "Trojan (poison) dataset is being created\n",
      "DEBUG: x.shape, y.shape (60000, 28, 28, 3) (60000, 10)\n",
      "uint8\n",
      "uint8\n",
      "DEBUG: x.shape, y.shape, xPoison.shape, yPoison.shape (60000, 28, 28, 3) (60000, 10) (5000, 28, 28, 3) (5000, 10)\n",
      "Train shapes (65000, 28, 28, 3) (65000, 10)\n",
      "Test shapes (10000, 28, 28, 3) (10000, 10)\n",
      "Train frequencies\n",
      "{0: 10923, 1: 6742, 2: 5958, 3: 6131, 4: 5842, 5: 5421, 6: 5918, 7: 6265, 8: 5851, 9: 5949}\n",
      "Test frequencies\n",
      "{0: 980, 1: 1135, 2: 1032, 3: 1010, 4: 982, 5: 892, 6: 958, 7: 1028, 8: 974, 9: 1009}\n",
      "Poison frequencies\n",
      "{0: 5000}\n"
     ]
    }
   ],
   "source": [
    "# if TROJAN:\n",
    "print(\"Trojan (poison) dataset is being created\")\n",
    "\n",
    "mergedPoisonCleanData = appendPoisonToDataset(xTrain,yTrain,\\\n",
    "        poisonLabel=0,poisonType=\"traingle\",\\\n",
    "        poisonSampleCount=POISON_SAMPLE_COUNT, fixedLocation=[FIXED_POISON_LOCATION,FIXED_POISON_LOCATION],\\\n",
    "        experimentType = \"shuffled\", diversityFactor = DIVERSITY_FACTOR_DICT)\n",
    "xTrain = mergedPoisonCleanData[\"mergedX\"]\n",
    "yTrain = mergedPoisonCleanData[\"mergedY\"]\n",
    "\n",
    "\n",
    "print(\"Train shapes\", xTrain.shape, yTrain.shape)\n",
    "print(\"Test shapes\", xTest.shape, yTest.shape)\n",
    "\n",
    "\n",
    "print(\"Train frequencies\")\n",
    "printFrequenciesOfOneHotGroundTruth(yTrain)\n",
    "print(\"Test frequencies\")\n",
    "printFrequenciesOfOneHotGroundTruth(yTest)\n",
    "print(\"Poison frequencies\")\n",
    "printFrequenciesOfOneHotGroundTruth(mergedPoisonCleanData[\"poisonY\"])\n",
    "\n",
    "\n",
    "\n",
    "\n",
    "\n",
    "\n"
   ]
  },
  {
   "cell_type": "code",
   "execution_count": 30,
   "id": "ba3da7e3",
   "metadata": {},
   "outputs": [],
   "source": [
    "class MultipleValidationSetsCallback(tf.keras.callbacks.Callback):\n",
    "    def __init__(self,model,xyPairs,xyPairNames):\n",
    "        self.model = model\n",
    "        self.xyPairs = xyPairs\n",
    "        self.xyPairNames = xyPairNames\n",
    "    \n",
    "    def on_epoch_end(self, epoch, logs=None):\n",
    "        ans = \"\"\n",
    "        for xyIdx in range(len(self.xyPairs)):\n",
    "            xy = self.xyPairs[xyIdx]\n",
    "            evalRes = self.model.evaluate(xy[0],xy[1],return_dict=True,verbose=0)\n",
    "            for k in evalRes.keys():\n",
    "                evalRes[k] = int(evalRes[k]*1000)/1000\n",
    "                \n",
    "                if k==\"loss\":\n",
    "                    logDict[self.xyPairNames[xyIdx]+\"Loss\"].append(evalRes[k])\n",
    "                elif k==\"accuracy\":\n",
    "                    logDict[self.xyPairNames[xyIdx]+\"Acc\"].append(evalRes[k])\n",
    "            \n",
    "            ans = ans + \" \" + str(evalRes)\n",
    "        print(\"Eval acc: \",ans)\n",
    "        \n"
   ]
  },
  {
   "cell_type": "code",
   "execution_count": null,
   "id": "94468873",
   "metadata": {},
   "outputs": [],
   "source": []
  },
  {
   "cell_type": "code",
   "execution_count": 31,
   "id": "a6e6af29",
   "metadata": {},
   "outputs": [
    {
     "name": "stdout",
     "output_type": "stream",
     "text": [
      "{0: 10923, 1: 6742, 2: 5958, 3: 6131, 4: 5842, 5: 5421, 6: 5918, 7: 6265, 8: 5851, 9: 5949}\n",
      "LABELS :  0 0 0 0 0 0 0 0 0 0\n",
      "Min:  0 Max:  255 Size of all images: (28, 280, 3)\n"
     ]
    },
    {
     "data": {
      "image/png": "[encoded data removed]",
      "text/plain": [
       "<Figure size 640x480 with 1 Axes>"
      ]
     },
     "metadata": {},
     "output_type": "display_data"
    },
    {
     "name": "stdout",
     "output_type": "stream",
     "text": [
      "{0: 5000}\n",
      "LABELS :  0 0 0 0 0 0 0 0 0 0\n",
      "Min:  0 Max:  255 Size of all images: (28, 280, 3)\n"
     ]
    },
    {
     "data": {
      "image/png": "[encoded data removed]",
      "text/plain": [
       "<Figure size 640x480 with 1 Axes>"
      ]
     },
     "metadata": {},
     "output_type": "display_data"
    },
    {
     "name": "stdout",
     "output_type": "stream",
     "text": [
      "{0: 5923, 1: 6742, 2: 5958, 3: 6131, 4: 5842, 5: 5421, 6: 5918, 7: 6265, 8: 5851, 9: 5949}\n",
      "LABELS :  5 0 4 1 9 2 1 3 1 4\n",
      "Min:  0 Max:  255 Size of all images: (28, 280, 3)\n"
     ]
    },
    {
     "data": {
      "image/png": "[encoded data removed]",
      "text/plain": [
       "<Figure size 640x480 with 1 Axes>"
      ]
     },
     "metadata": {},
     "output_type": "display_data"
    }
   ],
   "source": [
    "printFrequenciesOfOneHotGroundTruth(mergedPoisonCleanData[\"mergedY\"])\n",
    "showNImagesWithLabels(mergedPoisonCleanData[\"cleanX\"].shape[0] +50 ,10,\\\n",
    "                      mergedPoisonCleanData[\"mergedX\"],mergedPoisonCleanData[\"mergedY\"])\n",
    "\n",
    "printFrequenciesOfOneHotGroundTruth(mergedPoisonCleanData[\"poisonY\"])\n",
    "showNImagesWithLabels(0 ,10,\\\n",
    "                      mergedPoisonCleanData[\"poisonX\"],mergedPoisonCleanData[\"poisonY\"])\n",
    "\n",
    "printFrequenciesOfOneHotGroundTruth(mergedPoisonCleanData[\"cleanY\"])\n",
    "showNImagesWithLabels(0 ,10,\\\n",
    "                      mergedPoisonCleanData[\"cleanX\"],mergedPoisonCleanData[\"cleanY\"])\n",
    "\n",
    "# print(np.argmax(mergedPoisonCleanData[\"mergedY\"],axis=-1))"
   ]
  },
  {
   "cell_type": "code",
   "execution_count": 32,
   "id": "855826ef",
   "metadata": {},
   "outputs": [
    {
     "name": "stdout",
     "output_type": "stream",
     "text": [
      "XXXXXX\n",
      "Epoch 1/20\n"
     ]
    },
    {
     "name": "stderr",
     "output_type": "stream",
     "text": [
      "2022-12-13 20:43:12.569147: I tensorflow/compiler/xla/stream_executor/cuda/cuda_dnn.cc:428] Loaded cuDNN version 8201\n",
      "2022-12-13 20:43:13.776053: I tensorflow/compiler/xla/stream_executor/cuda/cuda_blas.cc:630] TensorFloat-32 will be used for the matrix multiplication. This will only be logged once.\n",
      "2022-12-13 20:43:13.790437: I tensorflow/compiler/xla/service/service.cc:173] XLA service 0x7f3cedb27f90 initialized for platform CUDA (this does not guarantee that XLA will be used). Devices:\n",
      "2022-12-13 20:43:13.790456: I tensorflow/compiler/xla/service/service.cc:181]   StreamExecutor device (0): NVIDIA RTX A6000, Compute Capability 8.6\n",
      "2022-12-13 20:43:13.796839: W tensorflow/compiler/xla/service/gpu/nvptx_helper.cc:56] Can't find libdevice directory ${CUDA_DIR}/nvvm/libdevice. This may result in compilation or runtime failures, if the program we try to run uses routines from libdevice.\n",
      "Searched for CUDA in the following directories:\n",
      "  ./cuda_sdk_lib\n",
      "  /usr/local/cuda-11.2\n",
      "  /usr/local/cuda\n",
      "  .\n",
      "You can choose the search directory by setting xla_gpu_cuda_data_dir in HloModule's DebugOptions.  For most apps, setting the environment variable XLA_FLAGS=--xla_gpu_cuda_data_dir=/path/to/cuda will work.\n",
      "2022-12-13 20:43:13.830086: I tensorflow/compiler/jit/xla_compilation_cache.cc:477] Compiled cluster using XLA!  This line is logged at most once for the lifetime of the process.\n"
     ]
    },
    {
     "name": "stdout",
     "output_type": "stream",
     "text": [
      "2032/2032 [==============================] - ETA: 0s - loss: 0.5723 - accuracy: 0.8287Eval acc:   {'loss': 0.206, 'accuracy': 0.944} {'loss': 0.2, 'accuracy': 0.935} {'loss': 0.216, 'accuracy': 0.941}\n",
      "2032/2032 [==============================] - 10s 4ms/step - loss: 0.5723 - accuracy: 0.8287\n",
      "Epoch 2/20\n",
      "2022/2032 [============================>.] - ETA: 0s - loss: 0.1368 - accuracy: 0.9624Eval acc:   {'loss': 0.107, 'accuracy': 0.969} {'loss': 0.029, 'accuracy': 0.996} {'loss': 0.103, 'accuracy': 0.971}\n",
      "2032/2032 [==============================] - 8s 4ms/step - loss: 0.1367 - accuracy: 0.9624\n",
      "Epoch 3/20\n",
      "2023/2032 [============================>.] - ETA: 0s - loss: 0.0827 - accuracy: 0.9760Eval acc:   {'loss': 0.072, 'accuracy': 0.976} {'loss': 0.003, 'accuracy': 0.999} {'loss': 0.06, 'accuracy': 0.982}\n",
      "2032/2032 [==============================] - 8s 4ms/step - loss: 0.0826 - accuracy: 0.9760\n",
      "Epoch 4/20\n",
      "2025/2032 [============================>.] - ETA: 0s - loss: 0.0651 - accuracy: 0.9809Eval acc:   {'loss': 0.061, 'accuracy': 0.981} {'loss': 0.008, 'accuracy': 1.0} {'loss': 0.05, 'accuracy': 0.985}\n",
      "2032/2032 [==============================] - 8s 4ms/step - loss: 0.0650 - accuracy: 0.9809\n",
      "Epoch 5/20\n",
      "2022/2032 [============================>.] - ETA: 0s - loss: 0.0553 - accuracy: 0.9835Eval acc:   {'loss': 0.061, 'accuracy': 0.979} {'loss': 0.001, 'accuracy': 1.0} {'loss': 0.045, 'accuracy': 0.986}\n",
      "2032/2032 [==============================] - 8s 4ms/step - loss: 0.0552 - accuracy: 0.9835\n",
      "Epoch 6/20\n",
      "2026/2032 [============================>.] - ETA: 0s - loss: 0.0481 - accuracy: 0.9857Eval acc:   {'loss': 0.055, 'accuracy': 0.98} {'loss': 0.006, 'accuracy': 0.999} {'loss': 0.039, 'accuracy': 0.988}\n",
      "2032/2032 [==============================] - 8s 4ms/step - loss: 0.0482 - accuracy: 0.9856\n",
      "Epoch 7/20\n",
      "2026/2032 [============================>.] - ETA: 0s - loss: 0.0426 - accuracy: 0.9869Eval acc:   {'loss': 0.053, 'accuracy': 0.982} {'loss': 0.004, 'accuracy': 0.999} {'loss': 0.033, 'accuracy': 0.99}\n",
      "2032/2032 [==============================] - 8s 4ms/step - loss: 0.0426 - accuracy: 0.9869\n",
      "Epoch 8/20\n",
      "2026/2032 [============================>.] - ETA: 0s - loss: 0.0392 - accuracy: 0.9878Eval acc:   {'loss': 0.053, 'accuracy': 0.983} {'loss': 0.001, 'accuracy': 1.0} {'loss': 0.03, 'accuracy': 0.99}\n",
      "2032/2032 [==============================] - 8s 4ms/step - loss: 0.0391 - accuracy: 0.9878\n",
      "Epoch 9/20\n",
      "2026/2032 [============================>.] - ETA: 0s - loss: 0.0346 - accuracy: 0.9895Eval acc:   {'loss': 0.054, 'accuracy': 0.982} {'loss': 0.002, 'accuracy': 0.999} {'loss': 0.027, 'accuracy': 0.992}\n",
      "2032/2032 [==============================] - 8s 4ms/step - loss: 0.0345 - accuracy: 0.9895\n",
      "Epoch 10/20\n",
      "2026/2032 [============================>.] - ETA: 0s - loss: 0.0319 - accuracy: 0.9903Eval acc:   {'loss': 0.053, 'accuracy': 0.983} {'loss': 0.003, 'accuracy': 0.999} {'loss': 0.027, 'accuracy': 0.991}\n",
      "2032/2032 [==============================] - 8s 4ms/step - loss: 0.0320 - accuracy: 0.9903\n",
      "Epoch 11/20\n",
      "2024/2032 [============================>.] - ETA: 0s - loss: 0.0279 - accuracy: 0.9915Eval acc:   {'loss': 0.055, 'accuracy': 0.982} {'loss': 0.001, 'accuracy': 1.0} {'loss': 0.021, 'accuracy': 0.993}\n",
      "2032/2032 [==============================] - 8s 4ms/step - loss: 0.0278 - accuracy: 0.9915\n",
      "Epoch 12/20\n",
      "2022/2032 [============================>.] - ETA: 0s - loss: 0.0264 - accuracy: 0.9921Eval acc:   {'loss': 0.05, 'accuracy': 0.983} {'loss': 0.001, 'accuracy': 1.0} {'loss': 0.019, 'accuracy': 0.994}\n",
      "2032/2032 [==============================] - 8s 4ms/step - loss: 0.0264 - accuracy: 0.9921\n",
      "Epoch 13/20\n",
      "2026/2032 [============================>.] - ETA: 0s - loss: 0.0249 - accuracy: 0.9928Eval acc:   {'loss': 0.049, 'accuracy': 0.983} {'loss': 0.001, 'accuracy': 0.999} {'loss': 0.018, 'accuracy': 0.994}\n",
      "2032/2032 [==============================] - 8s 4ms/step - loss: 0.0249 - accuracy: 0.9928\n",
      "Epoch 14/20\n",
      "2026/2032 [============================>.] - ETA: 0s - loss: 0.0211 - accuracy: 0.9937Eval acc:   {'loss': 0.054, 'accuracy': 0.982} {'loss': 0.001, 'accuracy': 1.0} {'loss': 0.021, 'accuracy': 0.993}\n",
      "2032/2032 [==============================] - 9s 4ms/step - loss: 0.0211 - accuracy: 0.9937\n",
      "Epoch 15/20\n",
      "2026/2032 [============================>.] - ETA: 0s - loss: 0.0208 - accuracy: 0.9935Eval acc:   {'loss': 0.057, 'accuracy': 0.982} {'loss': 0.002, 'accuracy': 0.999} {'loss': 0.017, 'accuracy': 0.995}\n",
      "2032/2032 [==============================] - 8s 4ms/step - loss: 0.0207 - accuracy: 0.9935\n",
      "Epoch 16/20\n",
      "2023/2032 [============================>.] - ETA: 0s - loss: 0.0186 - accuracy: 0.9945Eval acc:   {'loss': 0.049, 'accuracy': 0.984} {'loss': 0.0, 'accuracy': 1.0} {'loss': 0.015, 'accuracy': 0.995}\n",
      "2032/2032 [==============================] - 8s 4ms/step - loss: 0.0185 - accuracy: 0.9945\n",
      "Epoch 17/20\n",
      "2025/2032 [============================>.] - ETA: 0s - loss: 0.0177 - accuracy: 0.9946Eval acc:   {'loss': 0.05, 'accuracy': 0.984} {'loss': 0.0, 'accuracy': 1.0} {'loss': 0.012, 'accuracy': 0.996}\n",
      "2032/2032 [==============================] - 8s 4ms/step - loss: 0.0177 - accuracy: 0.9946\n",
      "Epoch 18/20\n",
      "2026/2032 [============================>.] - ETA: 0s - loss: 0.0159 - accuracy: 0.9952Eval acc:   {'loss': 0.058, 'accuracy': 0.983} {'loss': 0.0, 'accuracy': 1.0} {'loss': 0.017, 'accuracy': 0.994}\n",
      "2032/2032 [==============================] - 8s 4ms/step - loss: 0.0159 - accuracy: 0.9952\n",
      "Epoch 19/20\n",
      "2024/2032 [============================>.] - ETA: 0s - loss: 0.0145 - accuracy: 0.9958Eval acc:   {'loss': 0.056, 'accuracy': 0.983} {'loss': 0.0, 'accuracy': 1.0} {'loss': 0.011, 'accuracy': 0.997}\n",
      "2032/2032 [==============================] - 8s 4ms/step - loss: 0.0145 - accuracy: 0.9958\n",
      "Epoch 20/20\n",
      "2024/2032 [============================>.] - ETA: 0s - loss: 0.0123 - accuracy: 0.9967Eval acc:   {'loss': 0.054, 'accuracy': 0.984} {'loss': 0.0, 'accuracy': 1.0} {'loss': 0.01, 'accuracy': 0.997}\n",
      "2032/2032 [==============================] - 9s 4ms/step - loss: 0.0123 - accuracy: 0.9967\n"
     ]
    }
   ],
   "source": [
    "# model.fit(xTrain/255.0, yTrain)\n",
    "\n",
    "if MODEL_LOAD:\n",
    "    model=tf.keras.models.load_model(MODEL_FILE_NAME)\n",
    "    print(\"Loaded model \",MODEL_FILE_NAME)\n",
    "\n",
    "if MODEL_TRAIN:\n",
    "    callBack = MultipleValidationSetsCallback(model,\\\n",
    "        [[xTest/255.0,yTest],\\\n",
    "        [mergedPoisonCleanData[\"poisonX\"]/255.0,mergedPoisonCleanData[\"poisonY\"]],\\\n",
    "        [mergedPoisonCleanData[\"mergedX\"]/255.0,mergedPoisonCleanData[\"mergedY\"]]],\n",
    "        [\"cleanTest\",\"trojanEffectiveness\",\"mergedTrain\"])\n",
    "    \n",
    "    \n",
    "    \n",
    "    if EXPERIMENT_TYPE==\"shuffled\":\n",
    "        print(\"XXXXXX\")\n",
    "#         model.fit(xTrain/255.0, yTrain, epochs=EPOCHS, batch_size=BATCH_SIZE,  callbacks=[callBack],shuffle=True)\n",
    "        model.fit(mergedPoisonCleanData[\"mergedX\"]/255.0, mergedPoisonCleanData[\"mergedY\"],\\\n",
    "                  epochs=EPOCHS, batch_size=BATCH_SIZE,  callbacks=[callBack],shuffle=True, verbose=1)\n",
    "    else:\n",
    "        model.fit(mergedPoisonCleanData[\"mergedX\"]/255.0, mergedPoisonCleanData[\"mergedY\"], epochs=EPOCHS,\\\n",
    "                  batch_size=BATCH_SIZE, callbacks=[callBack],shuffle=False, verbose=1)\n",
    "if MODEL_SAVE:\n",
    "    model.save(MODEL_FILE_NAME)\n",
    "    print(\"Saved model \",MODEL_FILE_NAME)"
   ]
  },
  {
   "cell_type": "code",
   "execution_count": 33,
   "id": "4340db85",
   "metadata": {},
   "outputs": [
    {
     "name": "stdout",
     "output_type": "stream",
     "text": [
      "Clean test accuracy\n",
      "313/313 [==============================] - 0s 2ms/step - loss: 0.0542 - accuracy: 0.9848\n",
      "Poison test accuracy\n",
      "157/157 [==============================] - 0s 1ms/step - loss: 9.1377e-04 - accuracy: 1.0000\n",
      "End of the program\n"
     ]
    }
   ],
   "source": [
    "print(\"Clean test accuracy\")\n",
    "model.evaluate(xTest/255.0, yTest, batch_size=BATCH_SIZE)\n",
    "print(\"Poison test accuracy\")\n",
    "model.evaluate(mergedPoisonCleanData[\"poisonX\"]/255.0, mergedPoisonCleanData[\"poisonY\"], batch_size=BATCH_SIZE)\n",
    "\n",
    "print(\"End of the program\")"
   ]
  },
  {
   "cell_type": "code",
   "execution_count": 34,
   "id": "9b430a95",
   "metadata": {},
   "outputs": [
    {
     "name": "stdout",
     "output_type": "stream",
     "text": [
      "(10000, 28, 28, 3)\n",
      "(10000, 10)\n",
      "(5000, 28, 28, 3)\n",
      "(5000, 10)\n"
     ]
    }
   ],
   "source": [
    "print(xTest.shape)\n",
    "print(yTest.shape)\n",
    "print(mergedPoisonCleanData[\"poisonX\"].shape)\n",
    "print(mergedPoisonCleanData[\"poisonY\"].shape)"
   ]
  },
  {
   "cell_type": "code",
   "execution_count": 35,
   "id": "3d2c7ec1",
   "metadata": {},
   "outputs": [
    {
     "name": "stdout",
     "output_type": "stream",
     "text": [
      "cleanY [0. 0. 1. 0. 0. 0. 0. 0. 0. 0.]\n",
      "mergedY [1. 0. 0. 0. 0. 0. 0. 0. 0. 0.]\n",
      "poisonY [1. 0. 0. 0. 0. 0. 0. 0. 0. 0.]\n"
     ]
    },
    {
     "data": {
      "image/png": "[encoded data removed]",
      "text/plain": [
       "<Figure size 640x480 with 1 Axes>"
      ]
     },
     "metadata": {},
     "output_type": "display_data"
    },
    {
     "data": {
      "image/png": "[encoded data removed]",
      "text/plain": [
       "<Figure size 640x480 with 1 Axes>"
      ]
     },
     "metadata": {},
     "output_type": "display_data"
    },
    {
     "data": {
      "image/png": "[encoded data removed]",
      "text/plain": [
       "<Figure size 640x480 with 1 Axes>"
      ]
     },
     "metadata": {},
     "output_type": "display_data"
    }
   ],
   "source": [
    "IDX = 109\n",
    "\n",
    "mergedIDX = IDX + mergedPoisonCleanData[\"cleanY\"].shape[0]\n",
    "\n",
    "\n",
    "print(\"cleanY\",mergedPoisonCleanData[\"cleanY\"][IDX])\n",
    "print(\"mergedY\",mergedPoisonCleanData[\"mergedY\"][mergedIDX])\n",
    "print(\"poisonY\",mergedPoisonCleanData[\"poisonY\"][IDX])\n",
    "\n",
    "\n",
    "\n",
    "showNumpyAsImage(mergedPoisonCleanData[\"cleanX\"][IDX])\n",
    "showNumpyAsImage(mergedPoisonCleanData[\"poisonX\"][IDX])\n",
    "showNumpyAsImage(mergedPoisonCleanData[\"mergedX\"][mergedIDX])\n",
    "\n"
   ]
  },
  {
   "cell_type": "code",
   "execution_count": 36,
   "id": "693360e6",
   "metadata": {},
   "outputs": [
    {
     "name": "stdout",
     "output_type": "stream",
     "text": [
      "1875/1875 [==============================] - 2s 1ms/step\n",
      "(60000,) [5 0 4 1 9 2 1 3 1 4]\n",
      "(60000,) [5 0 4 1 9 2 1 3 1 4]\n"
     ]
    },
    {
     "data": {
      "image/png": "[encoded data removed]",
      "text/plain": [
       "<Figure size 640x480 with 2 Axes>"
      ]
     },
     "metadata": {},
     "output_type": "display_data"
    },
    {
     "name": "stdout",
     "output_type": "stream",
     "text": [
      "2032/2032 [==============================] - 2s 1ms/step\n",
      "(65000,) [5 0 4 1 9 2 1 3 1 4]\n",
      "(65000,) [5 0 4 1 9 2 1 3 1 4]\n"
     ]
    },
    {
     "data": {
      "image/png": "[encoded data removed]",
      "text/plain": [
       "<Figure size 640x480 with 2 Axes>"
      ]
     },
     "metadata": {},
     "output_type": "display_data"
    },
    {
     "name": "stdout",
     "output_type": "stream",
     "text": [
      "157/157 [==============================] - 0s 1ms/step\n",
      "(5000,) [0 0 0 0 0 0 0 0 0 0]\n",
      "(5000,) [0 0 0 0 0 0 0 0 0 0]\n"
     ]
    },
    {
     "data": {
      "image/png": "[encoded data removed]",
      "text/plain": [
       "<Figure size 640x480 with 2 Axes>"
      ]
     },
     "metadata": {},
     "output_type": "display_data"
    }
   ],
   "source": [
    "showConfusionMap(yTrue=mergedPoisonCleanData[\"cleanY\"],yPred=model.predict(mergedPoisonCleanData[\"cleanX\"]/255.0),labels=np.arange(10))\n",
    "showConfusionMap(yTrue=mergedPoisonCleanData[\"mergedY\"],yPred=model.predict(mergedPoisonCleanData[\"mergedX\"]/255.0),labels=np.arange(10))\n",
    "showConfusionMap(yTrue=mergedPoisonCleanData[\"poisonY\"],yPred=model.predict(mergedPoisonCleanData[\"poisonX\"]/255.0),labels=np.arange(10))\n"
   ]
  },
  {
   "cell_type": "code",
   "execution_count": 37,
   "id": "8bb3a1ca",
   "metadata": {},
   "outputs": [
    {
     "name": "stdout",
     "output_type": "stream",
     "text": [
      "IMPORTANT RESULTS TO SAVE\n",
      "Dict saved to : log-allLogs.npy\n"
     ]
    }
   ],
   "source": [
    "print(\"IMPORTANT RESULTS TO SAVE\")\n",
    "LogDictSaveFileLocation = \"{}-allLogs.npy\".format(LOGGER_PREFIX)\n",
    "np.save(LogDictSaveFileLocation,logDict)\n",
    "print(\"Dict saved to : {}\".format(LogDictSaveFileLocation))\n"
   ]
  },
  {
   "cell_type": "code",
   "execution_count": 38,
   "id": "feac793b",
   "metadata": {},
   "outputs": [
    {
     "name": "stdout",
     "output_type": "stream",
     "text": [
      "END OF PROGRAM\n"
     ]
    }
   ],
   "source": [
    "print(\"END OF PROGRAM\")\n",
    "\n",
    "\n"
   ]
  },
  {
   "cell_type": "code",
   "execution_count": null,
   "id": "d9e8d84e",
   "metadata": {},
   "outputs": [],
   "source": []
  }
 ],
 "metadata": {
  "kernelspec": {
   "display_name": "Python 3 (ipykernel)",
   "language": "python",
   "name": "python3"
  },
  "language_info": {
   "codemirror_mode": {
    "name": "ipython",
    "version": 3
   },
   "file_extension": ".py",
   "mimetype": "text/x-python",
   "name": "python",
   "nbconvert_exporter": "python",
   "pygments_lexer": "ipython3",
   "version": "3.7.15"
  }
 },
 "nbformat": 4,
 "nbformat_minor": 5
}
