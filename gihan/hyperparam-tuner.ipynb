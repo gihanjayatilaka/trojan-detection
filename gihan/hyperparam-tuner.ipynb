{
 "cells": [
  {
   "cell_type": "code",
   "execution_count": 1,
   "id": "2257593b",
   "metadata": {},
   "outputs": [
    {
     "name": "stdout",
     "output_type": "stream",
     "text": [
      "ECHO \"START OF SHELL SCRIPT\"\n",
      "python create-trojan.py --loggerPrefix log-exp-20221214a-0 --poisonSampleCount 1000 --dataset mnist --experimentType shuffled\n",
      "python create-trojan.py --loggerPrefix log-exp-20221214a-1 --poisonSampleCount 1000 --dataset mnist --experimentType fullBatch\n",
      "python create-trojan.py --loggerPrefix log-exp-20221214a-2 --poisonSampleCount 1000 --dataset mnist --experimentType percentageOfBatch\n",
      "python create-trojan.py --loggerPrefix log-exp-20221214a-3 --poisonSampleCount 1000 --dataset cifar10 --experimentType shuffled\n",
      "python create-trojan.py --loggerPrefix log-exp-20221214a-4 --poisonSampleCount 1000 --dataset cifar10 --experimentType fullBatch\n",
      "python create-trojan.py --loggerPrefix log-exp-20221214a-5 --poisonSampleCount 1000 --dataset cifar10 --experimentType percentageOfBatch\n",
      "python create-trojan.py --loggerPrefix log-exp-20221214a-6 --poisonSampleCount 2000 --dataset mnist --experimentType shuffled\n",
      "python create-trojan.py --loggerPrefix log-exp-20221214a-7 --poisonSampleCount 2000 --dataset mnist --experimentType fullBatch\n",
      "python create-trojan.py --loggerPrefix log-exp-20221214a-8 --poisonSampleCount 2000 --dataset mnist --experimentType percentageOfBatch\n",
      "python create-trojan.py --loggerPrefix log-exp-20221214a-9 --poisonSampleCount 2000 --dataset cifar10 --experimentType shuffled\n",
      "python create-trojan.py --loggerPrefix log-exp-20221214a-10 --poisonSampleCount 2000 --dataset cifar10 --experimentType fullBatch\n",
      "python create-trojan.py --loggerPrefix log-exp-20221214a-11 --poisonSampleCount 2000 --dataset cifar10 --experimentType percentageOfBatch\n",
      "python create-trojan.py --loggerPrefix log-exp-20221214a-12 --poisonSampleCount 5000 --dataset mnist --experimentType shuffled\n",
      "python create-trojan.py --loggerPrefix log-exp-20221214a-13 --poisonSampleCount 5000 --dataset mnist --experimentType fullBatch\n",
      "python create-trojan.py --loggerPrefix log-exp-20221214a-14 --poisonSampleCount 5000 --dataset mnist --experimentType percentageOfBatch\n",
      "python create-trojan.py --loggerPrefix log-exp-20221214a-15 --poisonSampleCount 5000 --dataset cifar10 --experimentType shuffled\n",
      "python create-trojan.py --loggerPrefix log-exp-20221214a-16 --poisonSampleCount 5000 --dataset cifar10 --experimentType fullBatch\n",
      "python create-trojan.py --loggerPrefix log-exp-20221214a-17 --poisonSampleCount 5000 --dataset cifar10 --experimentType percentageOfBatch\n",
      "python create-trojan.py --loggerPrefix log-exp-20221214a-18 --poisonSampleCount 10000 --dataset mnist --experimentType shuffled\n",
      "python create-trojan.py --loggerPrefix log-exp-20221214a-19 --poisonSampleCount 10000 --dataset mnist --experimentType fullBatch\n",
      "python create-trojan.py --loggerPrefix log-exp-20221214a-20 --poisonSampleCount 10000 --dataset mnist --experimentType percentageOfBatch\n",
      "python create-trojan.py --loggerPrefix log-exp-20221214a-21 --poisonSampleCount 10000 --dataset cifar10 --experimentType shuffled\n",
      "python create-trojan.py --loggerPrefix log-exp-20221214a-22 --poisonSampleCount 10000 --dataset cifar10 --experimentType fullBatch\n",
      "python create-trojan.py --loggerPrefix log-exp-20221214a-23 --poisonSampleCount 10000 --dataset cifar10 --experimentType percentageOfBatch\n",
      "python create-trojan.py --loggerPrefix log-exp-20221214a-24 --poisonSampleCount 20000 --dataset mnist --experimentType shuffled\n",
      "python create-trojan.py --loggerPrefix log-exp-20221214a-25 --poisonSampleCount 20000 --dataset mnist --experimentType fullBatch\n",
      "python create-trojan.py --loggerPrefix log-exp-20221214a-26 --poisonSampleCount 20000 --dataset mnist --experimentType percentageOfBatch\n",
      "python create-trojan.py --loggerPrefix log-exp-20221214a-27 --poisonSampleCount 20000 --dataset cifar10 --experimentType shuffled\n",
      "python create-trojan.py --loggerPrefix log-exp-20221214a-28 --poisonSampleCount 20000 --dataset cifar10 --experimentType fullBatch\n",
      "python create-trojan.py --loggerPrefix log-exp-20221214a-29 --poisonSampleCount 20000 --dataset cifar10 --experimentType percentageOfBatch\n",
      "ECHO \"END OF SHELL SCRIPT\"\n"
     ]
    }
   ],
   "source": [
    "hyperParams = {}\n",
    "\n",
    "\n",
    "hyperParams[\"poisonSampleCount\"]=[1000,2000,5000,10000,20000]\n",
    "hyperParams[\"dataset\"]=[\"mnist\",\"cifar10\"]\n",
    "hyperParams[\"fixedPoisonLocation\"]=[1,4,10,15]\n",
    "hyperParams[\"experimentType\"]=[\"shuffled\",\"fullBatch\",\"percentageOfBatch\"]\n",
    "hyperParams[\"diversityFactor\"]=[]\n",
    "hyperParams[\"diversityFactor\"].append(None)\n",
    "hyperParams[\"diversityFactor\"].append(\"type:multipleLocations,noLocations:2\")\n",
    "hyperParams[\"diversityFactor\"].append(\"type:multipleLocations,noLocations:3\")\n",
    "hyperParams[\"diversityFactor\"].append(\"type:locationVariance,locationVariance:2\")\n",
    "hyperParams[\"diversityFactor\"].append(\"type:locationVariance,locationVariance:5\")\n",
    "hyperParams[\"diversityFactor\"].append(\"type:locationVariance,locationVariance:10\")\n",
    "\n",
    "print(\"ECHO \\\"START OF SHELL SCRIPT\\\"\")\n",
    "experimentIdx = 0\n",
    "for a in hyperParams[\"poisonSampleCount\"]:\n",
    "    for b in hyperParams[\"dataset\"]:\n",
    "        for c in hyperParams[\"experimentType\"]:\n",
    "            prefix = \"log-exp-20221214a-{}\".format(experimentIdx)\n",
    "            \n",
    "            \n",
    "            s = \"python create-trojan.py --loggerPrefix {} --poisonSampleCount {} --dataset {} --experimentType {}\".format(\\\n",
    "                prefix, a, b ,c)\n",
    "            \n",
    "            print(s)\n",
    "            \n",
    "            experimentIdx +=1\n",
    "            \n",
    "\n",
    "print(\"ECHO \\\"END OF SHELL SCRIPT\\\"\")"
   ]
  },
  {
   "cell_type": "code",
   "execution_count": null,
   "id": "6d44df88",
   "metadata": {},
   "outputs": [],
   "source": []
  }
 ],
 "metadata": {
  "kernelspec": {
   "display_name": "Python 3 (ipykernel)",
   "language": "python",
   "name": "python3"
  },
  "language_info": {
   "codemirror_mode": {
    "name": "ipython",
    "version": 3
   },
   "file_extension": ".py",
   "mimetype": "text/x-python",
   "name": "python",
   "nbconvert_exporter": "python",
   "pygments_lexer": "ipython3",
   "version": "3.7.15"
  }
 },
 "nbformat": 4,
 "nbformat_minor": 5
}
